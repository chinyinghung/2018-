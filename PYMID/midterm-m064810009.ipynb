{
 "cells": [
  {
   "cell_type": "markdown",
   "metadata": {},
   "source": [
    "# 載入模組"
   ]
  },
  {
   "cell_type": "code",
   "execution_count": 1,
   "metadata": {
    "collapsed": true
   },
   "outputs": [],
   "source": [
    "from sklearn.ensemble import RandomForestClassifier\n",
    "from sklearn.model_selection import cross_val_score\n",
    "\n",
    "import pandas as pd"
   ]
  },
  {
   "cell_type": "markdown",
   "metadata": {},
   "source": [
    "# 讀取檔案\n",
    "## 利用未除息來訓練,除息後來檢定(認為市場交易的實際價格為為除息的價格,較能反應市場)"
   ]
  },
  {
   "cell_type": "code",
   "execution_count": 2,
   "metadata": {
    "collapsed": true,
    "scrolled": true
   },
   "outputs": [],
   "source": [
    "test = pd.read_csv(\"taetfp.csv\", error_bad_lines=False)\n",
    "train = pd.read_csv(\"tetfp.csv\", error_bad_lines=False)\n",
    "#submit = pd.read_csv('gender_submission.csv')"
   ]
  },
  {
   "cell_type": "markdown",
   "metadata": {},
   "source": [
    "# 改變欄位名稱"
   ]
  },
  {
   "cell_type": "code",
   "execution_count": 3,
   "metadata": {
    "collapsed": true
   },
   "outputs": [],
   "source": [
    "test.columns=['code','date','name','open','high','low','close','volume']\n",
    "train.columns=['code','date','name','open','high','low','close','volume']\n"
   ]
  },
  {
   "cell_type": "markdown",
   "metadata": {},
   "source": [
    "# 查看資料型態"
   ]
  },
  {
   "cell_type": "code",
   "execution_count": 4,
   "metadata": {
    "scrolled": true
   },
   "outputs": [
    {
     "data": {
      "text/html": [
       "<div>\n",
       "<style>\n",
       "    .dataframe thead tr:only-child th {\n",
       "        text-align: right;\n",
       "    }\n",
       "\n",
       "    .dataframe thead th {\n",
       "        text-align: left;\n",
       "    }\n",
       "\n",
       "    .dataframe tbody tr th {\n",
       "        vertical-align: top;\n",
       "    }\n",
       "</style>\n",
       "<table border=\"1\" class=\"dataframe\">\n",
       "  <thead>\n",
       "    <tr style=\"text-align: right;\">\n",
       "      <th></th>\n",
       "      <th>code</th>\n",
       "      <th>date</th>\n",
       "      <th>name</th>\n",
       "      <th>open</th>\n",
       "      <th>high</th>\n",
       "      <th>low</th>\n",
       "      <th>close</th>\n",
       "      <th>volume</th>\n",
       "    </tr>\n",
       "  </thead>\n",
       "  <tbody>\n",
       "    <tr>\n",
       "      <th>0</th>\n",
       "      <td>50</td>\n",
       "      <td>20130102</td>\n",
       "      <td>元大台灣50</td>\n",
       "      <td>54.00</td>\n",
       "      <td>54.65</td>\n",
       "      <td>53.90</td>\n",
       "      <td>54.40</td>\n",
       "      <td>16487</td>\n",
       "    </tr>\n",
       "    <tr>\n",
       "      <th>1</th>\n",
       "      <td>50</td>\n",
       "      <td>20130103</td>\n",
       "      <td>元大台灣50</td>\n",
       "      <td>54.90</td>\n",
       "      <td>55.05</td>\n",
       "      <td>54.65</td>\n",
       "      <td>54.85</td>\n",
       "      <td>29020</td>\n",
       "    </tr>\n",
       "    <tr>\n",
       "      <th>2</th>\n",
       "      <td>50</td>\n",
       "      <td>20130104</td>\n",
       "      <td>元大台灣50</td>\n",
       "      <td>54.85</td>\n",
       "      <td>54.85</td>\n",
       "      <td>54.40</td>\n",
       "      <td>54.50</td>\n",
       "      <td>9837</td>\n",
       "    </tr>\n",
       "    <tr>\n",
       "      <th>3</th>\n",
       "      <td>50</td>\n",
       "      <td>20130107</td>\n",
       "      <td>元大台灣50</td>\n",
       "      <td>54.55</td>\n",
       "      <td>54.55</td>\n",
       "      <td>53.90</td>\n",
       "      <td>54.25</td>\n",
       "      <td>8910</td>\n",
       "    </tr>\n",
       "    <tr>\n",
       "      <th>4</th>\n",
       "      <td>50</td>\n",
       "      <td>20130108</td>\n",
       "      <td>元大台灣50</td>\n",
       "      <td>54.00</td>\n",
       "      <td>54.20</td>\n",
       "      <td>53.65</td>\n",
       "      <td>53.90</td>\n",
       "      <td>12507</td>\n",
       "    </tr>\n",
       "  </tbody>\n",
       "</table>\n",
       "</div>"
      ],
      "text/plain": [
       "   code      date              name   open   high    low  close  volume\n",
       "0    50  20130102  元大台灣50            54.00  54.65  53.90  54.40   16487\n",
       "1    50  20130103  元大台灣50            54.90  55.05  54.65  54.85   29020\n",
       "2    50  20130104  元大台灣50            54.85  54.85  54.40  54.50    9837\n",
       "3    50  20130107  元大台灣50            54.55  54.55  53.90  54.25    8910\n",
       "4    50  20130108  元大台灣50            54.00  54.20  53.65  53.90   12507"
      ]
     },
     "execution_count": 4,
     "metadata": {},
     "output_type": "execute_result"
    }
   ],
   "source": [
    "train.head()"
   ]
  },
  {
   "cell_type": "code",
   "execution_count": 5,
   "metadata": {},
   "outputs": [
    {
     "data": {
      "text/html": [
       "<div>\n",
       "<style>\n",
       "    .dataframe thead tr:only-child th {\n",
       "        text-align: right;\n",
       "    }\n",
       "\n",
       "    .dataframe thead th {\n",
       "        text-align: left;\n",
       "    }\n",
       "\n",
       "    .dataframe tbody tr th {\n",
       "        vertical-align: top;\n",
       "    }\n",
       "</style>\n",
       "<table border=\"1\" class=\"dataframe\">\n",
       "  <thead>\n",
       "    <tr style=\"text-align: right;\">\n",
       "      <th></th>\n",
       "      <th>code</th>\n",
       "      <th>date</th>\n",
       "      <th>name</th>\n",
       "      <th>open</th>\n",
       "      <th>high</th>\n",
       "      <th>low</th>\n",
       "      <th>close</th>\n",
       "      <th>volume</th>\n",
       "    </tr>\n",
       "  </thead>\n",
       "  <tbody>\n",
       "    <tr>\n",
       "      <th>0</th>\n",
       "      <td>50</td>\n",
       "      <td>20130102</td>\n",
       "      <td>元大台灣50</td>\n",
       "      <td>46.57</td>\n",
       "      <td>47.13</td>\n",
       "      <td>46.49</td>\n",
       "      <td>46.92</td>\n",
       "      <td>16487</td>\n",
       "    </tr>\n",
       "    <tr>\n",
       "      <th>1</th>\n",
       "      <td>50</td>\n",
       "      <td>20130103</td>\n",
       "      <td>元大台灣50</td>\n",
       "      <td>47.35</td>\n",
       "      <td>47.48</td>\n",
       "      <td>47.13</td>\n",
       "      <td>47.31</td>\n",
       "      <td>29020</td>\n",
       "    </tr>\n",
       "    <tr>\n",
       "      <th>2</th>\n",
       "      <td>50</td>\n",
       "      <td>20130104</td>\n",
       "      <td>元大台灣50</td>\n",
       "      <td>47.31</td>\n",
       "      <td>47.31</td>\n",
       "      <td>46.92</td>\n",
       "      <td>47.00</td>\n",
       "      <td>9837</td>\n",
       "    </tr>\n",
       "    <tr>\n",
       "      <th>3</th>\n",
       "      <td>50</td>\n",
       "      <td>20130107</td>\n",
       "      <td>元大台灣50</td>\n",
       "      <td>47.05</td>\n",
       "      <td>47.05</td>\n",
       "      <td>46.49</td>\n",
       "      <td>46.79</td>\n",
       "      <td>8910</td>\n",
       "    </tr>\n",
       "    <tr>\n",
       "      <th>4</th>\n",
       "      <td>50</td>\n",
       "      <td>20130108</td>\n",
       "      <td>元大台灣50</td>\n",
       "      <td>46.57</td>\n",
       "      <td>46.75</td>\n",
       "      <td>46.27</td>\n",
       "      <td>46.49</td>\n",
       "      <td>12507</td>\n",
       "    </tr>\n",
       "  </tbody>\n",
       "</table>\n",
       "</div>"
      ],
      "text/plain": [
       "   code      date              name   open   high    low  close  volume\n",
       "0    50  20130102  元大台灣50            46.57  47.13  46.49  46.92   16487\n",
       "1    50  20130103  元大台灣50            47.35  47.48  47.13  47.31   29020\n",
       "2    50  20130104  元大台灣50            47.31  47.31  46.92  47.00    9837\n",
       "3    50  20130107  元大台灣50            47.05  47.05  46.49  46.79    8910\n",
       "4    50  20130108  元大台灣50            46.57  46.75  46.27  46.49   12507"
      ]
     },
     "execution_count": 5,
     "metadata": {},
     "output_type": "execute_result"
    }
   ],
   "source": [
    "test.head()"
   ]
  },
  {
   "cell_type": "code",
   "execution_count": 6,
   "metadata": {},
   "outputs": [
    {
     "name": "stdout",
     "output_type": "stream",
     "text": [
      "<class 'pandas.core.frame.DataFrame'>\n",
      "RangeIndex: 19054 entries, 0 to 19053\n",
      "Data columns (total 8 columns):\n",
      "code      19054 non-null int64\n",
      "date      19054 non-null int64\n",
      "name      19054 non-null object\n",
      "open      19054 non-null float64\n",
      "high      19054 non-null float64\n",
      "low       19054 non-null float64\n",
      "close     19054 non-null float64\n",
      "volume    19054 non-null int64\n",
      "dtypes: float64(4), int64(3), object(1)\n",
      "memory usage: 1.2+ MB\n"
     ]
    }
   ],
   "source": [
    "train.info()"
   ]
  },
  {
   "cell_type": "code",
   "execution_count": 7,
   "metadata": {},
   "outputs": [
    {
     "name": "stdout",
     "output_type": "stream",
     "text": [
      "<class 'pandas.core.frame.DataFrame'>\n",
      "RangeIndex: 19053 entries, 0 to 19052\n",
      "Data columns (total 8 columns):\n",
      "code      19053 non-null int64\n",
      "date      19053 non-null int64\n",
      "name      19053 non-null object\n",
      "open      19053 non-null float64\n",
      "high      19053 non-null float64\n",
      "low       19053 non-null float64\n",
      "close     19053 non-null float64\n",
      "volume    19053 non-null int64\n",
      "dtypes: float64(4), int64(3), object(1)\n",
      "memory usage: 1.2+ MB\n"
     ]
    }
   ],
   "source": [
    "test.info()"
   ]
  },
  {
   "cell_type": "code",
   "execution_count": 8,
   "metadata": {},
   "outputs": [
    {
     "data": {
      "text/html": [
       "<div>\n",
       "<style>\n",
       "    .dataframe thead tr:only-child th {\n",
       "        text-align: right;\n",
       "    }\n",
       "\n",
       "    .dataframe thead th {\n",
       "        text-align: left;\n",
       "    }\n",
       "\n",
       "    .dataframe tbody tr th {\n",
       "        vertical-align: top;\n",
       "    }\n",
       "</style>\n",
       "<table border=\"1\" class=\"dataframe\">\n",
       "  <thead>\n",
       "    <tr style=\"text-align: right;\">\n",
       "      <th></th>\n",
       "      <th>code</th>\n",
       "      <th>date</th>\n",
       "      <th>open</th>\n",
       "      <th>high</th>\n",
       "      <th>low</th>\n",
       "      <th>close</th>\n",
       "      <th>volume</th>\n",
       "    </tr>\n",
       "  </thead>\n",
       "  <tbody>\n",
       "    <tr>\n",
       "      <th>count</th>\n",
       "      <td>19054.000000</td>\n",
       "      <td>1.905400e+04</td>\n",
       "      <td>19054.000000</td>\n",
       "      <td>19054.000000</td>\n",
       "      <td>19054.000000</td>\n",
       "      <td>19054.000000</td>\n",
       "      <td>19054.000000</td>\n",
       "    </tr>\n",
       "    <tr>\n",
       "      <th>mean</th>\n",
       "      <td>1763.966201</td>\n",
       "      <td>2.015329e+07</td>\n",
       "      <td>32.832552</td>\n",
       "      <td>32.931248</td>\n",
       "      <td>32.720399</td>\n",
       "      <td>32.823267</td>\n",
       "      <td>898.025349</td>\n",
       "    </tr>\n",
       "    <tr>\n",
       "      <th>std</th>\n",
       "      <td>2727.620365</td>\n",
       "      <td>1.571827e+04</td>\n",
       "      <td>14.079738</td>\n",
       "      <td>14.117945</td>\n",
       "      <td>14.039040</td>\n",
       "      <td>14.080184</td>\n",
       "      <td>3697.839312</td>\n",
       "    </tr>\n",
       "    <tr>\n",
       "      <th>min</th>\n",
       "      <td>50.000000</td>\n",
       "      <td>2.013010e+07</td>\n",
       "      <td>9.300000</td>\n",
       "      <td>9.710000</td>\n",
       "      <td>9.240000</td>\n",
       "      <td>9.250000</td>\n",
       "      <td>0.000000</td>\n",
       "    </tr>\n",
       "    <tr>\n",
       "      <th>25%</th>\n",
       "      <td>53.000000</td>\n",
       "      <td>2.014053e+07</td>\n",
       "      <td>23.360000</td>\n",
       "      <td>23.450000</td>\n",
       "      <td>23.270000</td>\n",
       "      <td>23.360000</td>\n",
       "      <td>4.000000</td>\n",
       "    </tr>\n",
       "    <tr>\n",
       "      <th>50%</th>\n",
       "      <td>57.000000</td>\n",
       "      <td>2.015101e+07</td>\n",
       "      <td>31.580000</td>\n",
       "      <td>31.690000</td>\n",
       "      <td>31.485000</td>\n",
       "      <td>31.555000</td>\n",
       "      <td>21.000000</td>\n",
       "    </tr>\n",
       "    <tr>\n",
       "      <th>75%</th>\n",
       "      <td>6201.000000</td>\n",
       "      <td>2.017031e+07</td>\n",
       "      <td>39.900000</td>\n",
       "      <td>39.990000</td>\n",
       "      <td>39.777500</td>\n",
       "      <td>39.850000</td>\n",
       "      <td>180.000000</td>\n",
       "    </tr>\n",
       "    <tr>\n",
       "      <th>max</th>\n",
       "      <td>6208.000000</td>\n",
       "      <td>2.018043e+07</td>\n",
       "      <td>88.050000</td>\n",
       "      <td>88.400000</td>\n",
       "      <td>87.900000</td>\n",
       "      <td>88.300000</td>\n",
       "      <td>290124.000000</td>\n",
       "    </tr>\n",
       "  </tbody>\n",
       "</table>\n",
       "</div>"
      ],
      "text/plain": [
       "               code          date          open          high           low  \\\n",
       "count  19054.000000  1.905400e+04  19054.000000  19054.000000  19054.000000   \n",
       "mean    1763.966201  2.015329e+07     32.832552     32.931248     32.720399   \n",
       "std     2727.620365  1.571827e+04     14.079738     14.117945     14.039040   \n",
       "min       50.000000  2.013010e+07      9.300000      9.710000      9.240000   \n",
       "25%       53.000000  2.014053e+07     23.360000     23.450000     23.270000   \n",
       "50%       57.000000  2.015101e+07     31.580000     31.690000     31.485000   \n",
       "75%     6201.000000  2.017031e+07     39.900000     39.990000     39.777500   \n",
       "max     6208.000000  2.018043e+07     88.050000     88.400000     87.900000   \n",
       "\n",
       "              close         volume  \n",
       "count  19054.000000   19054.000000  \n",
       "mean      32.823267     898.025349  \n",
       "std       14.080184    3697.839312  \n",
       "min        9.250000       0.000000  \n",
       "25%       23.360000       4.000000  \n",
       "50%       31.555000      21.000000  \n",
       "75%       39.850000     180.000000  \n",
       "max       88.300000  290124.000000  "
      ]
     },
     "execution_count": 8,
     "metadata": {},
     "output_type": "execute_result"
    }
   ],
   "source": [
    "train.describe()"
   ]
  },
  {
   "cell_type": "code",
   "execution_count": 9,
   "metadata": {},
   "outputs": [
    {
     "data": {
      "text/html": [
       "<div>\n",
       "<style>\n",
       "    .dataframe thead tr:only-child th {\n",
       "        text-align: right;\n",
       "    }\n",
       "\n",
       "    .dataframe thead th {\n",
       "        text-align: left;\n",
       "    }\n",
       "\n",
       "    .dataframe tbody tr th {\n",
       "        vertical-align: top;\n",
       "    }\n",
       "</style>\n",
       "<table border=\"1\" class=\"dataframe\">\n",
       "  <thead>\n",
       "    <tr style=\"text-align: right;\">\n",
       "      <th></th>\n",
       "      <th>code</th>\n",
       "      <th>date</th>\n",
       "      <th>open</th>\n",
       "      <th>high</th>\n",
       "      <th>low</th>\n",
       "      <th>close</th>\n",
       "      <th>volume</th>\n",
       "    </tr>\n",
       "  </thead>\n",
       "  <tbody>\n",
       "    <tr>\n",
       "      <th>count</th>\n",
       "      <td>19053.000000</td>\n",
       "      <td>1.905300e+04</td>\n",
       "      <td>19053.000000</td>\n",
       "      <td>19053.000000</td>\n",
       "      <td>19053.000000</td>\n",
       "      <td>19053.000000</td>\n",
       "      <td>19053.000000</td>\n",
       "    </tr>\n",
       "    <tr>\n",
       "      <th>mean</th>\n",
       "      <td>1764.055844</td>\n",
       "      <td>2.015329e+07</td>\n",
       "      <td>30.928367</td>\n",
       "      <td>31.020185</td>\n",
       "      <td>30.823855</td>\n",
       "      <td>30.919575</td>\n",
       "      <td>897.983835</td>\n",
       "    </tr>\n",
       "    <tr>\n",
       "      <th>std</th>\n",
       "      <td>2727.663879</td>\n",
       "      <td>1.571746e+04</td>\n",
       "      <td>13.591398</td>\n",
       "      <td>13.624949</td>\n",
       "      <td>13.555332</td>\n",
       "      <td>13.591569</td>\n",
       "      <td>3697.931917</td>\n",
       "    </tr>\n",
       "    <tr>\n",
       "      <th>min</th>\n",
       "      <td>50.000000</td>\n",
       "      <td>2.013010e+07</td>\n",
       "      <td>8.690000</td>\n",
       "      <td>9.070000</td>\n",
       "      <td>8.630000</td>\n",
       "      <td>8.640000</td>\n",
       "      <td>0.000000</td>\n",
       "    </tr>\n",
       "    <tr>\n",
       "      <th>25%</th>\n",
       "      <td>53.000000</td>\n",
       "      <td>2.014053e+07</td>\n",
       "      <td>20.950000</td>\n",
       "      <td>21.020000</td>\n",
       "      <td>20.880000</td>\n",
       "      <td>20.960000</td>\n",
       "      <td>4.000000</td>\n",
       "    </tr>\n",
       "    <tr>\n",
       "      <th>50%</th>\n",
       "      <td>57.000000</td>\n",
       "      <td>2.015101e+07</td>\n",
       "      <td>29.560000</td>\n",
       "      <td>29.630000</td>\n",
       "      <td>29.450000</td>\n",
       "      <td>29.540000</td>\n",
       "      <td>21.000000</td>\n",
       "    </tr>\n",
       "    <tr>\n",
       "      <th>75%</th>\n",
       "      <td>6201.000000</td>\n",
       "      <td>2.017031e+07</td>\n",
       "      <td>37.970000</td>\n",
       "      <td>38.050000</td>\n",
       "      <td>37.880000</td>\n",
       "      <td>37.960000</td>\n",
       "      <td>180.000000</td>\n",
       "    </tr>\n",
       "    <tr>\n",
       "      <th>max</th>\n",
       "      <td>6208.000000</td>\n",
       "      <td>2.018043e+07</td>\n",
       "      <td>85.840000</td>\n",
       "      <td>86.180000</td>\n",
       "      <td>85.690000</td>\n",
       "      <td>86.080000</td>\n",
       "      <td>290124.000000</td>\n",
       "    </tr>\n",
       "  </tbody>\n",
       "</table>\n",
       "</div>"
      ],
      "text/plain": [
       "               code          date          open          high           low  \\\n",
       "count  19053.000000  1.905300e+04  19053.000000  19053.000000  19053.000000   \n",
       "mean    1764.055844  2.015329e+07     30.928367     31.020185     30.823855   \n",
       "std     2727.663879  1.571746e+04     13.591398     13.624949     13.555332   \n",
       "min       50.000000  2.013010e+07      8.690000      9.070000      8.630000   \n",
       "25%       53.000000  2.014053e+07     20.950000     21.020000     20.880000   \n",
       "50%       57.000000  2.015101e+07     29.560000     29.630000     29.450000   \n",
       "75%     6201.000000  2.017031e+07     37.970000     38.050000     37.880000   \n",
       "max     6208.000000  2.018043e+07     85.840000     86.180000     85.690000   \n",
       "\n",
       "              close         volume  \n",
       "count  19053.000000   19053.000000  \n",
       "mean      30.919575     897.983835  \n",
       "std       13.591569    3697.931917  \n",
       "min        8.640000       0.000000  \n",
       "25%       20.960000       4.000000  \n",
       "50%       29.540000      21.000000  \n",
       "75%       37.960000     180.000000  \n",
       "max       86.080000  290124.000000  "
      ]
     },
     "execution_count": 9,
     "metadata": {},
     "output_type": "execute_result"
    }
   ],
   "source": [
    "test.describe()"
   ]
  },
  {
   "cell_type": "markdown",
   "metadata": {},
   "source": [
    "# 計算技術指標"
   ]
  },
  {
   "cell_type": "code",
   "execution_count": 10,
   "metadata": {
    "collapsed": true
   },
   "outputs": [],
   "source": [
    "import talib\n",
    "import numpy\n",
    "def talib2df(talib_output):\n",
    "    if type(talib_output) == list:\n",
    "        ret = pd.DataFrame(talib_output).transpose()\n",
    "    else:\n",
    "        ret = pd.Series(talib_output)\n",
    "    ret.index = train['close'].index\n",
    "    return ret;"
   ]
  },
  {
   "cell_type": "code",
   "execution_count": 11,
   "metadata": {
    "collapsed": true
   },
   "outputs": [],
   "source": [
    "t1 = {\n",
    "    'close':train.close.dropna().astype(float),\n",
    "    'open':train.open.dropna().astype(float),\n",
    "    'high':train.high.dropna().astype(float),\n",
    "    'low':train.low.dropna().astype(float),\n",
    "    'volume': train.volume.dropna().astype(float)    \n",
    "}"
   ]
  },
  {
   "cell_type": "markdown",
   "metadata": {},
   "source": [
    "# 採用 KD/MACD/RSI指標"
   ]
  },
  {
   "cell_type": "code",
   "execution_count": 12,
   "metadata": {
    "collapsed": true
   },
   "outputs": [],
   "source": [
    "KD = talib2df(talib.abstract.STOCH(t1, fastk_period=9))"
   ]
  },
  {
   "cell_type": "code",
   "execution_count": 13,
   "metadata": {
    "collapsed": true
   },
   "outputs": [],
   "source": [
    "MACD = talib2df(talib.abstract.MACD(t1))"
   ]
  },
  {
   "cell_type": "code",
   "execution_count": 14,
   "metadata": {
    "collapsed": true
   },
   "outputs": [],
   "source": [
    "RSI = talib2df(talib.abstract.RSI(t1))"
   ]
  },
  {
   "cell_type": "code",
   "execution_count": 15,
   "metadata": {
    "collapsed": true
   },
   "outputs": [],
   "source": [
    "t1=pd.DataFrame(t1)\n",
    "t1 = pd.concat([train,KD,MACD,RSI], axis=1)"
   ]
  },
  {
   "cell_type": "code",
   "execution_count": 16,
   "metadata": {
    "collapsed": true
   },
   "outputs": [],
   "source": [
    "t1.columns=['code','date','name','open','high','low','close','volume','k','d','dif12','dif26','macd','rsi']"
   ]
  },
  {
   "cell_type": "code",
   "execution_count": 19,
   "metadata": {},
   "outputs": [
    {
     "data": {
      "text/html": [
       "<div>\n",
       "<style>\n",
       "    .dataframe thead tr:only-child th {\n",
       "        text-align: right;\n",
       "    }\n",
       "\n",
       "    .dataframe thead th {\n",
       "        text-align: left;\n",
       "    }\n",
       "\n",
       "    .dataframe tbody tr th {\n",
       "        vertical-align: top;\n",
       "    }\n",
       "</style>\n",
       "<table border=\"1\" class=\"dataframe\">\n",
       "  <thead>\n",
       "    <tr style=\"text-align: right;\">\n",
       "      <th></th>\n",
       "      <th>code</th>\n",
       "      <th>date</th>\n",
       "      <th>name</th>\n",
       "      <th>open</th>\n",
       "      <th>high</th>\n",
       "      <th>low</th>\n",
       "      <th>close</th>\n",
       "      <th>volume</th>\n",
       "      <th>k</th>\n",
       "      <th>d</th>\n",
       "      <th>dif12</th>\n",
       "      <th>dif26</th>\n",
       "      <th>macd</th>\n",
       "      <th>rsi</th>\n",
       "    </tr>\n",
       "  </thead>\n",
       "  <tbody>\n",
       "    <tr>\n",
       "      <th>33</th>\n",
       "      <td>50</td>\n",
       "      <td>20130226</td>\n",
       "      <td>元大台灣50</td>\n",
       "      <td>55.25</td>\n",
       "      <td>55.40</td>\n",
       "      <td>55.05</td>\n",
       "      <td>55.10</td>\n",
       "      <td>6753</td>\n",
       "      <td>45.418886</td>\n",
       "      <td>58.302230</td>\n",
       "      <td>0.385145</td>\n",
       "      <td>0.343851</td>\n",
       "      <td>0.041294</td>\n",
       "      <td>51.348701</td>\n",
       "    </tr>\n",
       "    <tr>\n",
       "      <th>34</th>\n",
       "      <td>50</td>\n",
       "      <td>20130227</td>\n",
       "      <td>元大台灣50</td>\n",
       "      <td>55.05</td>\n",
       "      <td>55.20</td>\n",
       "      <td>54.95</td>\n",
       "      <td>55.20</td>\n",
       "      <td>4605</td>\n",
       "      <td>28.628763</td>\n",
       "      <td>45.589086</td>\n",
       "      <td>0.349906</td>\n",
       "      <td>0.345062</td>\n",
       "      <td>0.004844</td>\n",
       "      <td>52.613598</td>\n",
       "    </tr>\n",
       "    <tr>\n",
       "      <th>35</th>\n",
       "      <td>50</td>\n",
       "      <td>20130301</td>\n",
       "      <td>元大台灣50</td>\n",
       "      <td>55.35</td>\n",
       "      <td>55.55</td>\n",
       "      <td>55.30</td>\n",
       "      <td>55.40</td>\n",
       "      <td>5730</td>\n",
       "      <td>20.115942</td>\n",
       "      <td>31.387864</td>\n",
       "      <td>0.334264</td>\n",
       "      <td>0.342903</td>\n",
       "      <td>-0.008639</td>\n",
       "      <td>55.126444</td>\n",
       "    </tr>\n",
       "    <tr>\n",
       "      <th>36</th>\n",
       "      <td>50</td>\n",
       "      <td>20130304</td>\n",
       "      <td>元大台灣50</td>\n",
       "      <td>55.40</td>\n",
       "      <td>55.45</td>\n",
       "      <td>54.70</td>\n",
       "      <td>54.75</td>\n",
       "      <td>8270</td>\n",
       "      <td>19.777778</td>\n",
       "      <td>22.840827</td>\n",
       "      <td>0.266348</td>\n",
       "      <td>0.327592</td>\n",
       "      <td>-0.061244</td>\n",
       "      <td>46.496626</td>\n",
       "    </tr>\n",
       "    <tr>\n",
       "      <th>37</th>\n",
       "      <td>50</td>\n",
       "      <td>20130305</td>\n",
       "      <td>元大台灣50</td>\n",
       "      <td>54.90</td>\n",
       "      <td>55.35</td>\n",
       "      <td>54.90</td>\n",
       "      <td>55.20</td>\n",
       "      <td>16081</td>\n",
       "      <td>25.456790</td>\n",
       "      <td>21.783503</td>\n",
       "      <td>0.245999</td>\n",
       "      <td>0.311273</td>\n",
       "      <td>-0.065274</td>\n",
       "      <td>52.088591</td>\n",
       "    </tr>\n",
       "    <tr>\n",
       "      <th>38</th>\n",
       "      <td>50</td>\n",
       "      <td>20130306</td>\n",
       "      <td>元大台灣50</td>\n",
       "      <td>55.70</td>\n",
       "      <td>55.75</td>\n",
       "      <td>55.20</td>\n",
       "      <td>55.45</td>\n",
       "      <td>4640</td>\n",
       "      <td>34.290123</td>\n",
       "      <td>26.508230</td>\n",
       "      <td>0.247196</td>\n",
       "      <td>0.298458</td>\n",
       "      <td>-0.051262</td>\n",
       "      <td>54.908225</td>\n",
       "    </tr>\n",
       "    <tr>\n",
       "      <th>39</th>\n",
       "      <td>50</td>\n",
       "      <td>20130307</td>\n",
       "      <td>元大台灣50</td>\n",
       "      <td>55.20</td>\n",
       "      <td>55.65</td>\n",
       "      <td>55.20</td>\n",
       "      <td>55.40</td>\n",
       "      <td>5956</td>\n",
       "      <td>52.623457</td>\n",
       "      <td>37.456790</td>\n",
       "      <td>0.241328</td>\n",
       "      <td>0.287032</td>\n",
       "      <td>-0.045704</td>\n",
       "      <td>54.220942</td>\n",
       "    </tr>\n",
       "    <tr>\n",
       "      <th>40</th>\n",
       "      <td>50</td>\n",
       "      <td>20130308</td>\n",
       "      <td>元大台灣50</td>\n",
       "      <td>55.60</td>\n",
       "      <td>55.90</td>\n",
       "      <td>55.60</td>\n",
       "      <td>55.80</td>\n",
       "      <td>12380</td>\n",
       "      <td>70.833333</td>\n",
       "      <td>52.582305</td>\n",
       "      <td>0.265889</td>\n",
       "      <td>0.282803</td>\n",
       "      <td>-0.016914</td>\n",
       "      <td>58.677128</td>\n",
       "    </tr>\n",
       "    <tr>\n",
       "      <th>41</th>\n",
       "      <td>50</td>\n",
       "      <td>20130311</td>\n",
       "      <td>元大台灣50</td>\n",
       "      <td>55.80</td>\n",
       "      <td>56.10</td>\n",
       "      <td>55.60</td>\n",
       "      <td>55.90</td>\n",
       "      <td>12066</td>\n",
       "      <td>78.571429</td>\n",
       "      <td>67.342740</td>\n",
       "      <td>0.290080</td>\n",
       "      <td>0.284259</td>\n",
       "      <td>0.005821</td>\n",
       "      <td>59.732430</td>\n",
       "    </tr>\n",
       "    <tr>\n",
       "      <th>42</th>\n",
       "      <td>50</td>\n",
       "      <td>20130312</td>\n",
       "      <td>元大台灣50</td>\n",
       "      <td>55.90</td>\n",
       "      <td>56.00</td>\n",
       "      <td>55.55</td>\n",
       "      <td>55.55</td>\n",
       "      <td>7442</td>\n",
       "      <td>79.365079</td>\n",
       "      <td>76.256614</td>\n",
       "      <td>0.277806</td>\n",
       "      <td>0.282968</td>\n",
       "      <td>-0.005162</td>\n",
       "      <td>54.487544</td>\n",
       "    </tr>\n",
       "    <tr>\n",
       "      <th>43</th>\n",
       "      <td>50</td>\n",
       "      <td>20130313</td>\n",
       "      <td>元大台灣50</td>\n",
       "      <td>55.60</td>\n",
       "      <td>55.95</td>\n",
       "      <td>55.30</td>\n",
       "      <td>55.65</td>\n",
       "      <td>10205</td>\n",
       "      <td>71.428571</td>\n",
       "      <td>76.455026</td>\n",
       "      <td>0.273002</td>\n",
       "      <td>0.280975</td>\n",
       "      <td>-0.007973</td>\n",
       "      <td>55.684822</td>\n",
       "    </tr>\n",
       "    <tr>\n",
       "      <th>44</th>\n",
       "      <td>50</td>\n",
       "      <td>20130314</td>\n",
       "      <td>元大台灣50</td>\n",
       "      <td>55.50</td>\n",
       "      <td>55.60</td>\n",
       "      <td>55.35</td>\n",
       "      <td>55.60</td>\n",
       "      <td>12133</td>\n",
       "      <td>64.285714</td>\n",
       "      <td>71.693122</td>\n",
       "      <td>0.262138</td>\n",
       "      <td>0.277207</td>\n",
       "      <td>-0.015070</td>\n",
       "      <td>54.907058</td>\n",
       "    </tr>\n",
       "    <tr>\n",
       "      <th>45</th>\n",
       "      <td>50</td>\n",
       "      <td>20130315</td>\n",
       "      <td>元大台灣50</td>\n",
       "      <td>55.60</td>\n",
       "      <td>55.70</td>\n",
       "      <td>55.20</td>\n",
       "      <td>55.20</td>\n",
       "      <td>9551</td>\n",
       "      <td>52.380952</td>\n",
       "      <td>62.698413</td>\n",
       "      <td>0.218730</td>\n",
       "      <td>0.265512</td>\n",
       "      <td>-0.046782</td>\n",
       "      <td>49.009579</td>\n",
       "    </tr>\n",
       "    <tr>\n",
       "      <th>46</th>\n",
       "      <td>50</td>\n",
       "      <td>20130318</td>\n",
       "      <td>元大台灣50</td>\n",
       "      <td>55.00</td>\n",
       "      <td>55.00</td>\n",
       "      <td>54.30</td>\n",
       "      <td>54.50</td>\n",
       "      <td>13219</td>\n",
       "      <td>33.465608</td>\n",
       "      <td>50.044092</td>\n",
       "      <td>0.126388</td>\n",
       "      <td>0.237687</td>\n",
       "      <td>-0.111299</td>\n",
       "      <td>40.758999</td>\n",
       "    </tr>\n",
       "    <tr>\n",
       "      <th>47</th>\n",
       "      <td>50</td>\n",
       "      <td>20130319</td>\n",
       "      <td>元大台灣50</td>\n",
       "      <td>54.70</td>\n",
       "      <td>54.75</td>\n",
       "      <td>54.50</td>\n",
       "      <td>54.60</td>\n",
       "      <td>3373</td>\n",
       "      <td>17.592593</td>\n",
       "      <td>34.479718</td>\n",
       "      <td>0.060577</td>\n",
       "      <td>0.202265</td>\n",
       "      <td>-0.141688</td>\n",
       "      <td>42.254573</td>\n",
       "    </tr>\n",
       "    <tr>\n",
       "      <th>48</th>\n",
       "      <td>50</td>\n",
       "      <td>20130320</td>\n",
       "      <td>元大台灣50</td>\n",
       "      <td>54.35</td>\n",
       "      <td>54.55</td>\n",
       "      <td>54.15</td>\n",
       "      <td>54.25</td>\n",
       "      <td>8821</td>\n",
       "      <td>10.968661</td>\n",
       "      <td>20.675621</td>\n",
       "      <td>-0.019595</td>\n",
       "      <td>0.157893</td>\n",
       "      <td>-0.177488</td>\n",
       "      <td>38.583139</td>\n",
       "    </tr>\n",
       "    <tr>\n",
       "      <th>49</th>\n",
       "      <td>50</td>\n",
       "      <td>20130321</td>\n",
       "      <td>元大台灣50</td>\n",
       "      <td>54.40</td>\n",
       "      <td>54.45</td>\n",
       "      <td>54.25</td>\n",
       "      <td>54.30</td>\n",
       "      <td>4929</td>\n",
       "      <td>9.829060</td>\n",
       "      <td>12.796771</td>\n",
       "      <td>-0.078196</td>\n",
       "      <td>0.110675</td>\n",
       "      <td>-0.188871</td>\n",
       "      <td>39.393296</td>\n",
       "    </tr>\n",
       "    <tr>\n",
       "      <th>50</th>\n",
       "      <td>50</td>\n",
       "      <td>20130322</td>\n",
       "      <td>元大台灣50</td>\n",
       "      <td>54.20</td>\n",
       "      <td>54.35</td>\n",
       "      <td>54.15</td>\n",
       "      <td>54.15</td>\n",
       "      <td>8202</td>\n",
       "      <td>4.273504</td>\n",
       "      <td>8.357075</td>\n",
       "      <td>-0.135183</td>\n",
       "      <td>0.061504</td>\n",
       "      <td>-0.196686</td>\n",
       "      <td>37.783078</td>\n",
       "    </tr>\n",
       "    <tr>\n",
       "      <th>51</th>\n",
       "      <td>50</td>\n",
       "      <td>20130325</td>\n",
       "      <td>元大台灣50</td>\n",
       "      <td>54.75</td>\n",
       "      <td>54.75</td>\n",
       "      <td>54.45</td>\n",
       "      <td>54.55</td>\n",
       "      <td>2648</td>\n",
       "      <td>9.971510</td>\n",
       "      <td>8.024691</td>\n",
       "      <td>-0.146381</td>\n",
       "      <td>0.019927</td>\n",
       "      <td>-0.166308</td>\n",
       "      <td>44.319217</td>\n",
       "    </tr>\n",
       "    <tr>\n",
       "      <th>52</th>\n",
       "      <td>50</td>\n",
       "      <td>20130326</td>\n",
       "      <td>元大台灣50</td>\n",
       "      <td>54.55</td>\n",
       "      <td>54.60</td>\n",
       "      <td>54.45</td>\n",
       "      <td>54.55</td>\n",
       "      <td>1956</td>\n",
       "      <td>16.009558</td>\n",
       "      <td>10.084857</td>\n",
       "      <td>-0.153487</td>\n",
       "      <td>-0.014756</td>\n",
       "      <td>-0.138731</td>\n",
       "      <td>44.319217</td>\n",
       "    </tr>\n",
       "    <tr>\n",
       "      <th>53</th>\n",
       "      <td>50</td>\n",
       "      <td>20130327</td>\n",
       "      <td>元大台灣50</td>\n",
       "      <td>54.60</td>\n",
       "      <td>54.85</td>\n",
       "      <td>54.45</td>\n",
       "      <td>54.70</td>\n",
       "      <td>4540</td>\n",
       "      <td>27.837515</td>\n",
       "      <td>17.939528</td>\n",
       "      <td>-0.145339</td>\n",
       "      <td>-0.040873</td>\n",
       "      <td>-0.104466</td>\n",
       "      <td>46.752072</td>\n",
       "    </tr>\n",
       "    <tr>\n",
       "      <th>54</th>\n",
       "      <td>50</td>\n",
       "      <td>20130328</td>\n",
       "      <td>元大台灣50</td>\n",
       "      <td>54.70</td>\n",
       "      <td>54.75</td>\n",
       "      <td>54.40</td>\n",
       "      <td>54.55</td>\n",
       "      <td>3315</td>\n",
       "      <td>36.116382</td>\n",
       "      <td>26.654485</td>\n",
       "      <td>-0.149265</td>\n",
       "      <td>-0.062551</td>\n",
       "      <td>-0.086714</td>\n",
       "      <td>44.651066</td>\n",
       "    </tr>\n",
       "    <tr>\n",
       "      <th>55</th>\n",
       "      <td>50</td>\n",
       "      <td>20130329</td>\n",
       "      <td>元大台灣50</td>\n",
       "      <td>54.85</td>\n",
       "      <td>55.15</td>\n",
       "      <td>54.70</td>\n",
       "      <td>55.10</td>\n",
       "      <td>5875</td>\n",
       "      <td>59.180898</td>\n",
       "      <td>41.044932</td>\n",
       "      <td>-0.106765</td>\n",
       "      <td>-0.071394</td>\n",
       "      <td>-0.035371</td>\n",
       "      <td>52.992647</td>\n",
       "    </tr>\n",
       "    <tr>\n",
       "      <th>56</th>\n",
       "      <td>50</td>\n",
       "      <td>20130401</td>\n",
       "      <td>元大台灣50</td>\n",
       "      <td>55.10</td>\n",
       "      <td>55.20</td>\n",
       "      <td>54.95</td>\n",
       "      <td>55.00</td>\n",
       "      <td>3729</td>\n",
       "      <td>74.337068</td>\n",
       "      <td>56.544783</td>\n",
       "      <td>-0.080228</td>\n",
       "      <td>-0.073161</td>\n",
       "      <td>-0.007067</td>\n",
       "      <td>51.473687</td>\n",
       "    </tr>\n",
       "    <tr>\n",
       "      <th>57</th>\n",
       "      <td>50</td>\n",
       "      <td>20130402</td>\n",
       "      <td>元大台灣50</td>\n",
       "      <td>55.00</td>\n",
       "      <td>55.10</td>\n",
       "      <td>54.70</td>\n",
       "      <td>54.85</td>\n",
       "      <td>4937</td>\n",
       "      <td>80.873016</td>\n",
       "      <td>71.463661</td>\n",
       "      <td>-0.070488</td>\n",
       "      <td>-0.072626</td>\n",
       "      <td>0.002138</td>\n",
       "      <td>49.195787</td>\n",
       "    </tr>\n",
       "    <tr>\n",
       "      <th>58</th>\n",
       "      <td>50</td>\n",
       "      <td>20130403</td>\n",
       "      <td>元大台灣50</td>\n",
       "      <td>55.10</td>\n",
       "      <td>55.15</td>\n",
       "      <td>54.90</td>\n",
       "      <td>55.00</td>\n",
       "      <td>2925</td>\n",
       "      <td>76.190476</td>\n",
       "      <td>77.133520</td>\n",
       "      <td>-0.050089</td>\n",
       "      <td>-0.068119</td>\n",
       "      <td>0.018030</td>\n",
       "      <td>51.506863</td>\n",
       "    </tr>\n",
       "    <tr>\n",
       "      <th>59</th>\n",
       "      <td>50</td>\n",
       "      <td>20130408</td>\n",
       "      <td>元大台灣50</td>\n",
       "      <td>54.45</td>\n",
       "      <td>54.50</td>\n",
       "      <td>53.85</td>\n",
       "      <td>53.85</td>\n",
       "      <td>18559</td>\n",
       "      <td>49.206349</td>\n",
       "      <td>68.756614</td>\n",
       "      <td>-0.125273</td>\n",
       "      <td>-0.079550</td>\n",
       "      <td>-0.045723</td>\n",
       "      <td>37.443663</td>\n",
       "    </tr>\n",
       "    <tr>\n",
       "      <th>60</th>\n",
       "      <td>50</td>\n",
       "      <td>20130409</td>\n",
       "      <td>元大台灣50</td>\n",
       "      <td>54.00</td>\n",
       "      <td>54.05</td>\n",
       "      <td>53.60</td>\n",
       "      <td>53.70</td>\n",
       "      <td>7681</td>\n",
       "      <td>29.067460</td>\n",
       "      <td>51.488095</td>\n",
       "      <td>-0.194716</td>\n",
       "      <td>-0.102583</td>\n",
       "      <td>-0.092133</td>\n",
       "      <td>36.060636</td>\n",
       "    </tr>\n",
       "    <tr>\n",
       "      <th>61</th>\n",
       "      <td>50</td>\n",
       "      <td>20130410</td>\n",
       "      <td>元大台灣50</td>\n",
       "      <td>53.75</td>\n",
       "      <td>53.95</td>\n",
       "      <td>53.60</td>\n",
       "      <td>53.80</td>\n",
       "      <td>3118</td>\n",
       "      <td>6.250000</td>\n",
       "      <td>28.174603</td>\n",
       "      <td>-0.238927</td>\n",
       "      <td>-0.129852</td>\n",
       "      <td>-0.109075</td>\n",
       "      <td>37.712397</td>\n",
       "    </tr>\n",
       "    <tr>\n",
       "      <th>62</th>\n",
       "      <td>50</td>\n",
       "      <td>20130411</td>\n",
       "      <td>元大台灣50</td>\n",
       "      <td>53.95</td>\n",
       "      <td>54.40</td>\n",
       "      <td>53.95</td>\n",
       "      <td>54.35</td>\n",
       "      <td>9842</td>\n",
       "      <td>21.875000</td>\n",
       "      <td>19.064153</td>\n",
       "      <td>-0.226968</td>\n",
       "      <td>-0.149275</td>\n",
       "      <td>-0.077693</td>\n",
       "      <td>45.978371</td>\n",
       "    </tr>\n",
       "    <tr>\n",
       "      <th>63</th>\n",
       "      <td>50</td>\n",
       "      <td>20130412</td>\n",
       "      <td>元大台灣50</td>\n",
       "      <td>54.40</td>\n",
       "      <td>54.50</td>\n",
       "      <td>54.20</td>\n",
       "      <td>54.35</td>\n",
       "      <td>2297</td>\n",
       "      <td>35.416667</td>\n",
       "      <td>21.180556</td>\n",
       "      <td>-0.215011</td>\n",
       "      <td>-0.162422</td>\n",
       "      <td>-0.052589</td>\n",
       "      <td>45.978371</td>\n",
       "    </tr>\n",
       "    <tr>\n",
       "      <th>64</th>\n",
       "      <td>50</td>\n",
       "      <td>20130415</td>\n",
       "      <td>元大台灣50</td>\n",
       "      <td>54.25</td>\n",
       "      <td>54.35</td>\n",
       "      <td>53.75</td>\n",
       "      <td>53.90</td>\n",
       "      <td>4111</td>\n",
       "      <td>37.500000</td>\n",
       "      <td>31.597222</td>\n",
       "      <td>-0.239091</td>\n",
       "      <td>-0.177756</td>\n",
       "      <td>-0.061335</td>\n",
       "      <td>40.836090</td>\n",
       "    </tr>\n",
       "    <tr>\n",
       "      <th>65</th>\n",
       "      <td>50</td>\n",
       "      <td>20130416</td>\n",
       "      <td>元大台灣50</td>\n",
       "      <td>53.50</td>\n",
       "      <td>54.00</td>\n",
       "      <td>53.45</td>\n",
       "      <td>54.00</td>\n",
       "      <td>5150</td>\n",
       "      <td>32.659314</td>\n",
       "      <td>35.191993</td>\n",
       "      <td>-0.247255</td>\n",
       "      <td>-0.191656</td>\n",
       "      <td>-0.055599</td>\n",
       "      <td>42.378359</td>\n",
       "    </tr>\n",
       "    <tr>\n",
       "      <th>66</th>\n",
       "      <td>50</td>\n",
       "      <td>20130417</td>\n",
       "      <td>元大台灣50</td>\n",
       "      <td>54.00</td>\n",
       "      <td>54.10</td>\n",
       "      <td>53.85</td>\n",
       "      <td>53.90</td>\n",
       "      <td>4995</td>\n",
       "      <td>25.857843</td>\n",
       "      <td>32.005719</td>\n",
       "      <td>-0.258811</td>\n",
       "      <td>-0.205087</td>\n",
       "      <td>-0.053724</td>\n",
       "      <td>41.221160</td>\n",
       "    </tr>\n",
       "    <tr>\n",
       "      <th>67</th>\n",
       "      <td>50</td>\n",
       "      <td>20130418</td>\n",
       "      <td>元大台灣50</td>\n",
       "      <td>53.55</td>\n",
       "      <td>54.10</td>\n",
       "      <td>53.55</td>\n",
       "      <td>53.85</td>\n",
       "      <td>5605</td>\n",
       "      <td>32.306256</td>\n",
       "      <td>30.274471</td>\n",
       "      <td>-0.268904</td>\n",
       "      <td>-0.217850</td>\n",
       "      <td>-0.051053</td>\n",
       "      <td>40.623850</td>\n",
       "    </tr>\n",
       "    <tr>\n",
       "      <th>68</th>\n",
       "      <td>50</td>\n",
       "      <td>20130419</td>\n",
       "      <td>元大台灣50</td>\n",
       "      <td>54.25</td>\n",
       "      <td>55.50</td>\n",
       "      <td>54.25</td>\n",
       "      <td>55.45</td>\n",
       "      <td>22459</td>\n",
       "      <td>54.042267</td>\n",
       "      <td>37.402122</td>\n",
       "      <td>-0.146111</td>\n",
       "      <td>-0.203502</td>\n",
       "      <td>0.057391</td>\n",
       "      <td>60.399013</td>\n",
       "    </tr>\n",
       "    <tr>\n",
       "      <th>69</th>\n",
       "      <td>50</td>\n",
       "      <td>20130422</td>\n",
       "      <td>元大台灣50</td>\n",
       "      <td>55.55</td>\n",
       "      <td>55.65</td>\n",
       "      <td>55.30</td>\n",
       "      <td>55.40</td>\n",
       "      <td>11412</td>\n",
       "      <td>74.764192</td>\n",
       "      <td>53.704239</td>\n",
       "      <td>-0.052230</td>\n",
       "      <td>-0.173248</td>\n",
       "      <td>0.121018</td>\n",
       "      <td>59.729542</td>\n",
       "    </tr>\n",
       "    <tr>\n",
       "      <th>70</th>\n",
       "      <td>50</td>\n",
       "      <td>20130423</td>\n",
       "      <td>元大台灣50</td>\n",
       "      <td>55.40</td>\n",
       "      <td>55.40</td>\n",
       "      <td>54.95</td>\n",
       "      <td>55.10</td>\n",
       "      <td>3673</td>\n",
       "      <td>87.065780</td>\n",
       "      <td>71.957413</td>\n",
       "      <td>-0.002013</td>\n",
       "      <td>-0.139001</td>\n",
       "      <td>0.136988</td>\n",
       "      <td>55.737582</td>\n",
       "    </tr>\n",
       "    <tr>\n",
       "      <th>71</th>\n",
       "      <td>50</td>\n",
       "      <td>20130424</td>\n",
       "      <td>元大台灣50</td>\n",
       "      <td>55.35</td>\n",
       "      <td>55.75</td>\n",
       "      <td>55.25</td>\n",
       "      <td>55.55</td>\n",
       "      <td>12432</td>\n",
       "      <td>84.980237</td>\n",
       "      <td>82.270070</td>\n",
       "      <td>0.073252</td>\n",
       "      <td>-0.096550</td>\n",
       "      <td>0.169802</td>\n",
       "      <td>60.050617</td>\n",
       "    </tr>\n",
       "    <tr>\n",
       "      <th>72</th>\n",
       "      <td>50</td>\n",
       "      <td>20130425</td>\n",
       "      <td>元大台灣50</td>\n",
       "      <td>55.45</td>\n",
       "      <td>55.75</td>\n",
       "      <td>55.40</td>\n",
       "      <td>55.65</td>\n",
       "      <td>11885</td>\n",
       "      <td>87.318841</td>\n",
       "      <td>86.454952</td>\n",
       "      <td>0.139362</td>\n",
       "      <td>-0.049368</td>\n",
       "      <td>0.188730</td>\n",
       "      <td>60.960989</td>\n",
       "    </tr>\n",
       "    <tr>\n",
       "      <th>73</th>\n",
       "      <td>50</td>\n",
       "      <td>20130426</td>\n",
       "      <td>元大台灣50</td>\n",
       "      <td>55.80</td>\n",
       "      <td>56.20</td>\n",
       "      <td>55.80</td>\n",
       "      <td>55.85</td>\n",
       "      <td>11113</td>\n",
       "      <td>91.409750</td>\n",
       "      <td>87.902942</td>\n",
       "      <td>0.205524</td>\n",
       "      <td>0.001610</td>\n",
       "      <td>0.203913</td>\n",
       "      <td>62.787460</td>\n",
       "    </tr>\n",
       "    <tr>\n",
       "      <th>74</th>\n",
       "      <td>50</td>\n",
       "      <td>20130429</td>\n",
       "      <td>元大台灣50</td>\n",
       "      <td>55.90</td>\n",
       "      <td>56.00</td>\n",
       "      <td>55.75</td>\n",
       "      <td>55.80</td>\n",
       "      <td>8140</td>\n",
       "      <td>89.276854</td>\n",
       "      <td>89.335148</td>\n",
       "      <td>0.251029</td>\n",
       "      <td>0.051494</td>\n",
       "      <td>0.199535</td>\n",
       "      <td>62.006417</td>\n",
       "    </tr>\n",
       "    <tr>\n",
       "      <th>75</th>\n",
       "      <td>50</td>\n",
       "      <td>20130430</td>\n",
       "      <td>元大台灣50</td>\n",
       "      <td>56.25</td>\n",
       "      <td>56.55</td>\n",
       "      <td>56.25</td>\n",
       "      <td>56.40</td>\n",
       "      <td>17616</td>\n",
       "      <td>89.059463</td>\n",
       "      <td>89.915355</td>\n",
       "      <td>0.331685</td>\n",
       "      <td>0.107532</td>\n",
       "      <td>0.224152</td>\n",
       "      <td>67.268254</td>\n",
       "    </tr>\n",
       "    <tr>\n",
       "      <th>76</th>\n",
       "      <td>50</td>\n",
       "      <td>20130502</td>\n",
       "      <td>元大台灣50</td>\n",
       "      <td>56.35</td>\n",
       "      <td>56.65</td>\n",
       "      <td>56.35</td>\n",
       "      <td>56.55</td>\n",
       "      <td>15919</td>\n",
       "      <td>91.912998</td>\n",
       "      <td>90.083105</td>\n",
       "      <td>0.403062</td>\n",
       "      <td>0.166638</td>\n",
       "      <td>0.236424</td>\n",
       "      <td>68.444837</td>\n",
       "    </tr>\n",
       "    <tr>\n",
       "      <th>77</th>\n",
       "      <td>50</td>\n",
       "      <td>20130503</td>\n",
       "      <td>元大台灣50</td>\n",
       "      <td>56.85</td>\n",
       "      <td>57.00</td>\n",
       "      <td>56.65</td>\n",
       "      <td>56.65</td>\n",
       "      <td>13217</td>\n",
       "      <td>91.253388</td>\n",
       "      <td>90.741949</td>\n",
       "      <td>0.462368</td>\n",
       "      <td>0.225784</td>\n",
       "      <td>0.236584</td>\n",
       "      <td>69.238710</td>\n",
       "    </tr>\n",
       "    <tr>\n",
       "      <th>78</th>\n",
       "      <td>50</td>\n",
       "      <td>20130506</td>\n",
       "      <td>元大台灣50</td>\n",
       "      <td>57.00</td>\n",
       "      <td>57.15</td>\n",
       "      <td>56.90</td>\n",
       "      <td>56.90</td>\n",
       "      <td>8575</td>\n",
       "      <td>89.132175</td>\n",
       "      <td>90.766187</td>\n",
       "      <td>0.523507</td>\n",
       "      <td>0.285329</td>\n",
       "      <td>0.238178</td>\n",
       "      <td>71.190113</td>\n",
       "    </tr>\n",
       "    <tr>\n",
       "      <th>79</th>\n",
       "      <td>50</td>\n",
       "      <td>20130507</td>\n",
       "      <td>元大台灣50</td>\n",
       "      <td>56.90</td>\n",
       "      <td>57.20</td>\n",
       "      <td>56.80</td>\n",
       "      <td>57.10</td>\n",
       "      <td>14262</td>\n",
       "      <td>88.811663</td>\n",
       "      <td>89.732409</td>\n",
       "      <td>0.581396</td>\n",
       "      <td>0.344542</td>\n",
       "      <td>0.236854</td>\n",
       "      <td>72.683075</td>\n",
       "    </tr>\n",
       "    <tr>\n",
       "      <th>80</th>\n",
       "      <td>50</td>\n",
       "      <td>20130508</td>\n",
       "      <td>元大台灣50</td>\n",
       "      <td>57.20</td>\n",
       "      <td>58.10</td>\n",
       "      <td>57.20</td>\n",
       "      <td>57.85</td>\n",
       "      <td>21793</td>\n",
       "      <td>91.416300</td>\n",
       "      <td>89.786713</td>\n",
       "      <td>0.679955</td>\n",
       "      <td>0.411625</td>\n",
       "      <td>0.268330</td>\n",
       "      <td>77.410547</td>\n",
       "    </tr>\n",
       "    <tr>\n",
       "      <th>81</th>\n",
       "      <td>50</td>\n",
       "      <td>20130509</td>\n",
       "      <td>元大台灣50</td>\n",
       "      <td>58.20</td>\n",
       "      <td>58.45</td>\n",
       "      <td>58.15</td>\n",
       "      <td>58.20</td>\n",
       "      <td>17797</td>\n",
       "      <td>92.117759</td>\n",
       "      <td>90.781907</td>\n",
       "      <td>0.777344</td>\n",
       "      <td>0.484769</td>\n",
       "      <td>0.292576</td>\n",
       "      <td>79.218034</td>\n",
       "    </tr>\n",
       "    <tr>\n",
       "      <th>82</th>\n",
       "      <td>50</td>\n",
       "      <td>20130510</td>\n",
       "      <td>元大台灣50</td>\n",
       "      <td>58.10</td>\n",
       "      <td>58.15</td>\n",
       "      <td>57.85</td>\n",
       "      <td>57.90</td>\n",
       "      <td>9240</td>\n",
       "      <td>87.037037</td>\n",
       "      <td>90.190365</td>\n",
       "      <td>0.820856</td>\n",
       "      <td>0.551986</td>\n",
       "      <td>0.268870</td>\n",
       "      <td>73.769447</td>\n",
       "    </tr>\n",
       "  </tbody>\n",
       "</table>\n",
       "</div>"
      ],
      "text/plain": [
       "    code      date              name   open   high    low  close  volume  \\\n",
       "33    50  20130226  元大台灣50            55.25  55.40  55.05  55.10    6753   \n",
       "34    50  20130227  元大台灣50            55.05  55.20  54.95  55.20    4605   \n",
       "35    50  20130301  元大台灣50            55.35  55.55  55.30  55.40    5730   \n",
       "36    50  20130304  元大台灣50            55.40  55.45  54.70  54.75    8270   \n",
       "37    50  20130305  元大台灣50            54.90  55.35  54.90  55.20   16081   \n",
       "38    50  20130306  元大台灣50            55.70  55.75  55.20  55.45    4640   \n",
       "39    50  20130307  元大台灣50            55.20  55.65  55.20  55.40    5956   \n",
       "40    50  20130308  元大台灣50            55.60  55.90  55.60  55.80   12380   \n",
       "41    50  20130311  元大台灣50            55.80  56.10  55.60  55.90   12066   \n",
       "42    50  20130312  元大台灣50            55.90  56.00  55.55  55.55    7442   \n",
       "43    50  20130313  元大台灣50            55.60  55.95  55.30  55.65   10205   \n",
       "44    50  20130314  元大台灣50            55.50  55.60  55.35  55.60   12133   \n",
       "45    50  20130315  元大台灣50            55.60  55.70  55.20  55.20    9551   \n",
       "46    50  20130318  元大台灣50            55.00  55.00  54.30  54.50   13219   \n",
       "47    50  20130319  元大台灣50            54.70  54.75  54.50  54.60    3373   \n",
       "48    50  20130320  元大台灣50            54.35  54.55  54.15  54.25    8821   \n",
       "49    50  20130321  元大台灣50            54.40  54.45  54.25  54.30    4929   \n",
       "50    50  20130322  元大台灣50            54.20  54.35  54.15  54.15    8202   \n",
       "51    50  20130325  元大台灣50            54.75  54.75  54.45  54.55    2648   \n",
       "52    50  20130326  元大台灣50            54.55  54.60  54.45  54.55    1956   \n",
       "53    50  20130327  元大台灣50            54.60  54.85  54.45  54.70    4540   \n",
       "54    50  20130328  元大台灣50            54.70  54.75  54.40  54.55    3315   \n",
       "55    50  20130329  元大台灣50            54.85  55.15  54.70  55.10    5875   \n",
       "56    50  20130401  元大台灣50            55.10  55.20  54.95  55.00    3729   \n",
       "57    50  20130402  元大台灣50            55.00  55.10  54.70  54.85    4937   \n",
       "58    50  20130403  元大台灣50            55.10  55.15  54.90  55.00    2925   \n",
       "59    50  20130408  元大台灣50            54.45  54.50  53.85  53.85   18559   \n",
       "60    50  20130409  元大台灣50            54.00  54.05  53.60  53.70    7681   \n",
       "61    50  20130410  元大台灣50            53.75  53.95  53.60  53.80    3118   \n",
       "62    50  20130411  元大台灣50            53.95  54.40  53.95  54.35    9842   \n",
       "63    50  20130412  元大台灣50            54.40  54.50  54.20  54.35    2297   \n",
       "64    50  20130415  元大台灣50            54.25  54.35  53.75  53.90    4111   \n",
       "65    50  20130416  元大台灣50            53.50  54.00  53.45  54.00    5150   \n",
       "66    50  20130417  元大台灣50            54.00  54.10  53.85  53.90    4995   \n",
       "67    50  20130418  元大台灣50            53.55  54.10  53.55  53.85    5605   \n",
       "68    50  20130419  元大台灣50            54.25  55.50  54.25  55.45   22459   \n",
       "69    50  20130422  元大台灣50            55.55  55.65  55.30  55.40   11412   \n",
       "70    50  20130423  元大台灣50            55.40  55.40  54.95  55.10    3673   \n",
       "71    50  20130424  元大台灣50            55.35  55.75  55.25  55.55   12432   \n",
       "72    50  20130425  元大台灣50            55.45  55.75  55.40  55.65   11885   \n",
       "73    50  20130426  元大台灣50            55.80  56.20  55.80  55.85   11113   \n",
       "74    50  20130429  元大台灣50            55.90  56.00  55.75  55.80    8140   \n",
       "75    50  20130430  元大台灣50            56.25  56.55  56.25  56.40   17616   \n",
       "76    50  20130502  元大台灣50            56.35  56.65  56.35  56.55   15919   \n",
       "77    50  20130503  元大台灣50            56.85  57.00  56.65  56.65   13217   \n",
       "78    50  20130506  元大台灣50            57.00  57.15  56.90  56.90    8575   \n",
       "79    50  20130507  元大台灣50            56.90  57.20  56.80  57.10   14262   \n",
       "80    50  20130508  元大台灣50            57.20  58.10  57.20  57.85   21793   \n",
       "81    50  20130509  元大台灣50            58.20  58.45  58.15  58.20   17797   \n",
       "82    50  20130510  元大台灣50            58.10  58.15  57.85  57.90    9240   \n",
       "\n",
       "            k          d     dif12     dif26      macd        rsi  \n",
       "33  45.418886  58.302230  0.385145  0.343851  0.041294  51.348701  \n",
       "34  28.628763  45.589086  0.349906  0.345062  0.004844  52.613598  \n",
       "35  20.115942  31.387864  0.334264  0.342903 -0.008639  55.126444  \n",
       "36  19.777778  22.840827  0.266348  0.327592 -0.061244  46.496626  \n",
       "37  25.456790  21.783503  0.245999  0.311273 -0.065274  52.088591  \n",
       "38  34.290123  26.508230  0.247196  0.298458 -0.051262  54.908225  \n",
       "39  52.623457  37.456790  0.241328  0.287032 -0.045704  54.220942  \n",
       "40  70.833333  52.582305  0.265889  0.282803 -0.016914  58.677128  \n",
       "41  78.571429  67.342740  0.290080  0.284259  0.005821  59.732430  \n",
       "42  79.365079  76.256614  0.277806  0.282968 -0.005162  54.487544  \n",
       "43  71.428571  76.455026  0.273002  0.280975 -0.007973  55.684822  \n",
       "44  64.285714  71.693122  0.262138  0.277207 -0.015070  54.907058  \n",
       "45  52.380952  62.698413  0.218730  0.265512 -0.046782  49.009579  \n",
       "46  33.465608  50.044092  0.126388  0.237687 -0.111299  40.758999  \n",
       "47  17.592593  34.479718  0.060577  0.202265 -0.141688  42.254573  \n",
       "48  10.968661  20.675621 -0.019595  0.157893 -0.177488  38.583139  \n",
       "49   9.829060  12.796771 -0.078196  0.110675 -0.188871  39.393296  \n",
       "50   4.273504   8.357075 -0.135183  0.061504 -0.196686  37.783078  \n",
       "51   9.971510   8.024691 -0.146381  0.019927 -0.166308  44.319217  \n",
       "52  16.009558  10.084857 -0.153487 -0.014756 -0.138731  44.319217  \n",
       "53  27.837515  17.939528 -0.145339 -0.040873 -0.104466  46.752072  \n",
       "54  36.116382  26.654485 -0.149265 -0.062551 -0.086714  44.651066  \n",
       "55  59.180898  41.044932 -0.106765 -0.071394 -0.035371  52.992647  \n",
       "56  74.337068  56.544783 -0.080228 -0.073161 -0.007067  51.473687  \n",
       "57  80.873016  71.463661 -0.070488 -0.072626  0.002138  49.195787  \n",
       "58  76.190476  77.133520 -0.050089 -0.068119  0.018030  51.506863  \n",
       "59  49.206349  68.756614 -0.125273 -0.079550 -0.045723  37.443663  \n",
       "60  29.067460  51.488095 -0.194716 -0.102583 -0.092133  36.060636  \n",
       "61   6.250000  28.174603 -0.238927 -0.129852 -0.109075  37.712397  \n",
       "62  21.875000  19.064153 -0.226968 -0.149275 -0.077693  45.978371  \n",
       "63  35.416667  21.180556 -0.215011 -0.162422 -0.052589  45.978371  \n",
       "64  37.500000  31.597222 -0.239091 -0.177756 -0.061335  40.836090  \n",
       "65  32.659314  35.191993 -0.247255 -0.191656 -0.055599  42.378359  \n",
       "66  25.857843  32.005719 -0.258811 -0.205087 -0.053724  41.221160  \n",
       "67  32.306256  30.274471 -0.268904 -0.217850 -0.051053  40.623850  \n",
       "68  54.042267  37.402122 -0.146111 -0.203502  0.057391  60.399013  \n",
       "69  74.764192  53.704239 -0.052230 -0.173248  0.121018  59.729542  \n",
       "70  87.065780  71.957413 -0.002013 -0.139001  0.136988  55.737582  \n",
       "71  84.980237  82.270070  0.073252 -0.096550  0.169802  60.050617  \n",
       "72  87.318841  86.454952  0.139362 -0.049368  0.188730  60.960989  \n",
       "73  91.409750  87.902942  0.205524  0.001610  0.203913  62.787460  \n",
       "74  89.276854  89.335148  0.251029  0.051494  0.199535  62.006417  \n",
       "75  89.059463  89.915355  0.331685  0.107532  0.224152  67.268254  \n",
       "76  91.912998  90.083105  0.403062  0.166638  0.236424  68.444837  \n",
       "77  91.253388  90.741949  0.462368  0.225784  0.236584  69.238710  \n",
       "78  89.132175  90.766187  0.523507  0.285329  0.238178  71.190113  \n",
       "79  88.811663  89.732409  0.581396  0.344542  0.236854  72.683075  \n",
       "80  91.416300  89.786713  0.679955  0.411625  0.268330  77.410547  \n",
       "81  92.117759  90.781907  0.777344  0.484769  0.292576  79.218034  \n",
       "82  87.037037  90.190365  0.820856  0.551986  0.268870  73.769447  "
      ]
     },
     "execution_count": 19,
     "metadata": {},
     "output_type": "execute_result"
    }
   ],
   "source": [
    "t1.head(50)"
   ]
  },
  {
   "cell_type": "markdown",
   "metadata": {},
   "source": [
    "# 20130225前的技術指標值存在空值,所以移除"
   ]
  },
  {
   "cell_type": "code",
   "execution_count": 18,
   "metadata": {
    "collapsed": true,
    "scrolled": true
   },
   "outputs": [],
   "source": [
    "t1 = t1.query('date > 20130225')"
   ]
  },
  {
   "cell_type": "code",
   "execution_count": 25,
   "metadata": {
    "collapsed": true
   },
   "outputs": [],
   "source": [
    "import numpy as np\n",
    "\n",
    "from sklearn import model_selection, ensemble, preprocessing, metrics"
   ]
  },
  {
   "cell_type": "markdown",
   "metadata": {},
   "source": [
    "### 移除遺漏值、與設漲即為1"
   ]
  },
  {
   "cell_type": "code",
   "execution_count": 26,
   "metadata": {
    "collapsed": true
   },
   "outputs": [],
   "source": [
    "df=t1\n",
    "df['label']=(df.close - df.close.shift(1)) > 0\n",
    "df=df.dropna()"
   ]
  },
  {
   "cell_type": "markdown",
   "metadata": {},
   "source": [
    "### 創造 dummy variables"
   ]
  },
  {
   "cell_type": "code",
   "execution_count": 27,
   "metadata": {},
   "outputs": [],
   "source": [
    "label_encoder = preprocessing.LabelEncoder()\n",
    "encoded_label = label_encoder.fit_transform(df[\"label\"])"
   ]
  },
  {
   "cell_type": "markdown",
   "metadata": {},
   "source": [
    "# 區分不同標的"
   ]
  },
  {
   "cell_type": "code",
   "execution_count": 28,
   "metadata": {
    "collapsed": true
   },
   "outputs": [],
   "source": [
    "tra50 = df.query('code == 50')\n",
    "tra51 = df.query('code == 51')\n",
    "tra52 = df.query('code == 52')\n",
    "tra53 = df.query('code == 53')\n",
    "tra54 = df.query('code == 54')\n",
    "tra55 = df.query('code == 55')\n",
    "tra56 = df.query('code == 56')\n",
    "tra57 = df.query('code == 57')\n",
    "tra58 = df.query('code == 58')\n",
    "tra59 = df.query('code == 59')\n",
    "tra690 = df.query('code == 690')\n",
    "tra692 = df.query('code == 692')\n",
    "tra701 = df.query('code == 701')\n",
    "tra713 = df.query('code == 713')\n",
    "tra6201 = df.query('code == 6201')\n",
    "tra6203 = df.query('code == 6203')\n",
    "tra6204 = df.query('code == 6204')\n",
    "tra6208 = df.query('code == 6208')"
   ]
  },
  {
   "cell_type": "markdown",
   "metadata": {},
   "source": [
    "### 測試還有建立的數據"
   ]
  },
  {
   "cell_type": "code",
   "execution_count": 29,
   "metadata": {
    "collapsed": true
   },
   "outputs": [],
   "source": [
    "selected_features = ['code','date','open','high','low','close','volume','k','d','macd','rsi']\n",
    "t1_X = df[selected_features]\n",
    "t1_y = df['label']\n",
    "train_X, test_X, train_y, test_y = model_selection.train_test_split(t1_X, t1_y, test_size = 0.3)"
   ]
  },
  {
   "cell_type": "markdown",
   "metadata": {},
   "source": [
    "### 建立 random forest 模型"
   ]
  },
  {
   "cell_type": "code",
   "execution_count": 30,
   "metadata": {
    "collapsed": true
   },
   "outputs": [],
   "source": [
    "forest = ensemble.RandomForestClassifier(n_estimators = 150)\n",
    "forest_fit = forest.fit(train_X, train_y)"
   ]
  },
  {
   "cell_type": "markdown",
   "metadata": {},
   "source": [
    "### 預測"
   ]
  },
  {
   "cell_type": "code",
   "execution_count": 31,
   "metadata": {
    "collapsed": true
   },
   "outputs": [],
   "source": [
    "test_y_predicted = forest.predict(test_X)\n",
    "#test_y_predicted"
   ]
  },
  {
   "cell_type": "markdown",
   "metadata": {},
   "source": [
    "### 績效"
   ]
  },
  {
   "cell_type": "code",
   "execution_count": 32,
   "metadata": {},
   "outputs": [
    {
     "name": "stdout",
     "output_type": "stream",
     "text": [
      "準確率: 0.7018103688275265\n",
      "AUC值: 0.7025815704553603\n"
     ]
    }
   ],
   "source": [
    "accuracy = metrics.accuracy_score(test_y, test_y_predicted)\n",
    "#print(accuracy)\n",
    "fpr, tpr, thresholds = metrics.roc_curve(test_y, test_y_predicted)\n",
    "auc = metrics.auc(fpr, tpr)\n",
    "#print(auc)\n",
    "print('準確率: {}'.format(auc))\n",
    "print('AUC值: {}'.format(accuracy))"
   ]
  },
  {
   "cell_type": "code",
   "execution_count": 33,
   "metadata": {},
   "outputs": [
    {
     "name": "stderr",
     "output_type": "stream",
     "text": [
      "C:\\Users\\x555l\\Anaconda3\\lib\\site-packages\\ipykernel_launcher.py:1: SettingWithCopyWarning: \n",
      "A value is trying to be set on a copy of a slice from a DataFrame.\n",
      "Try using .loc[row_indexer,col_indexer] = value instead\n",
      "\n",
      "See the caveats in the documentation: http://pandas.pydata.org/pandas-docs/stable/indexing.html#indexing-view-versus-copy\n",
      "  \"\"\"Entry point for launching an IPython kernel.\n"
     ]
    }
   ],
   "source": [
    "tra50['diff']=(tra50.close - tra50.close.shift(1))"
   ]
  },
  {
   "cell_type": "markdown",
   "metadata": {
    "collapsed": true
   },
   "source": [
    "# 預測股價走向"
   ]
  },
  {
   "cell_type": "code",
   "execution_count": 34,
   "metadata": {
    "collapsed": true
   },
   "outputs": [],
   "source": [
    "import numpy as np\n",
    "today_X = tra50[selected_features]\n",
    "today_y_predicted = forest.predict(today_X)\n",
    "proba = forest.predict_proba(today_X)\n"
   ]
  },
  {
   "cell_type": "code",
   "execution_count": 35,
   "metadata": {},
   "outputs": [
    {
     "name": "stdout",
     "output_type": "stream",
     "text": [
      "明日走勢: 跌\n"
     ]
    }
   ],
   "source": [
    "print('明日走勢: ' + format(np.where(today_y_predicted==True,'漲','跌')[0]))"
   ]
  },
  {
   "cell_type": "markdown",
   "metadata": {},
   "source": [
    "# 利用近月來的漲跌幅度來預測每期的漲跌幅度"
   ]
  },
  {
   "cell_type": "code",
   "execution_count": 36,
   "metadata": {
    "collapsed": true
   },
   "outputs": [],
   "source": [
    "fluct = tra50.query('date > 20180301')\n",
    "posfl = fluct.query('diff > 0')\n",
    "negfl = fluct.query('diff < 0')"
   ]
  },
  {
   "cell_type": "code",
   "execution_count": 37,
   "metadata": {
    "collapsed": true
   },
   "outputs": [],
   "source": [
    "rise = posfl['diff'].mean()\n",
    "drop = negfl['diff'].mean()"
   ]
  },
  {
   "cell_type": "code",
   "execution_count": 38,
   "metadata": {
    "scrolled": true
   },
   "outputs": [
    {
     "data": {
      "text/plain": [
       "1302    79.2\n",
       "Name: close, dtype: float64"
      ]
     },
     "execution_count": 38,
     "metadata": {},
     "output_type": "execute_result"
    }
   ],
   "source": [
    "tra50['close'].tail(1)"
   ]
  },
  {
   "cell_type": "code",
   "execution_count": 40,
   "metadata": {},
   "outputs": [
    {
     "name": "stdout",
     "output_type": "stream",
     "text": [
      "1302    78.652273\n",
      "Name: close, dtype: float64\n"
     ]
    }
   ],
   "source": [
    "if format(np.where(today_y_predicted == True,1,-1)[0]) == 1:\n",
    "    print (tra50['close'].tail(1) + rise)\n",
    "else:\n",
    "    print (tra50['close'].tail(1) + drop)"
   ]
  },
  {
   "cell_type": "markdown",
   "metadata": {},
   "source": [
    "# 利用除權息資料預測"
   ]
  },
  {
   "cell_type": "code",
   "execution_count": 41,
   "metadata": {
    "collapsed": true
   },
   "outputs": [],
   "source": [
    "import sys\n",
    "import talib\n",
    "import numpy\n",
    "def talib2df2(talib_output):\n",
    "    if type(talib_output) == list:\n",
    "        ret = pd.DataFrame(talib_output).transpose()\n",
    "    else:\n",
    "        ret = pd.Series(talib_output)\n",
    "    ret.index = test['close'].index\n",
    "    return ret;"
   ]
  },
  {
   "cell_type": "code",
   "execution_count": 42,
   "metadata": {
    "collapsed": true
   },
   "outputs": [],
   "source": [
    "t2 = {\n",
    "    'close':test.close.dropna().astype(float),\n",
    "    'open':test.open.dropna().astype(float),\n",
    "    'high':test.high.dropna().astype(float),\n",
    "    'low':test.low.dropna().astype(float),\n",
    "    'volume': test.volume.dropna().astype(float)    \n",
    "}"
   ]
  },
  {
   "cell_type": "code",
   "execution_count": 43,
   "metadata": {
    "collapsed": true
   },
   "outputs": [],
   "source": [
    "KD = talib2df2(talib.abstract.STOCH(t2, fastk_period=9))\n",
    "MACD = talib2df2(talib.abstract.MACD(t2))\n",
    "RSI = talib2df2(talib.abstract.RSI(t2))"
   ]
  },
  {
   "cell_type": "code",
   "execution_count": 44,
   "metadata": {},
   "outputs": [
    {
     "name": "stdout",
     "output_type": "stream",
     "text": [
      "明日走勢: 跌\n",
      "明日漲的機率: 0.18666666666666668\n"
     ]
    }
   ],
   "source": [
    "t2=pd.DataFrame(t2)\n",
    "t2= pd.concat([train,KD,MACD,RSI], axis=1)\n",
    "t2.columns=['code','date','name','open','high','low','close','volume','k','d','dif12','dif26','macd','rsi']\n",
    "t2 = t2.dropna()\n",
    "#顯示結果\n",
    "final_X = t2[selected_features]\n",
    "final_y_predicted = forest.predict(final_X)\n",
    "proba = forest.predict_proba(final_X)\n",
    "print('明日走勢: {}'.format(np.where(final_y_predicted==True,'漲','跌')[0]))\n",
    "print( '明日漲的機率: {}'.format(proba[0][1]))"
   ]
  },
  {
   "cell_type": "code",
   "execution_count": 45,
   "metadata": {},
   "outputs": [],
   "source": [
    "aim =[50,51,52,53,54,55,57,58,59,690,692,701,713,6201,6203,6204,6208]"
   ]
  },
  {
   "cell_type": "code",
   "execution_count": 46,
   "metadata": {
    "collapsed": true
   },
   "outputs": [],
   "source": [
    "fin50 = t2.query('code == 50')\n",
    "fin51 = t2.query('code == 51')\n",
    "fin52 = t2.query('code == 52')\n",
    "fin53 = t2.query('code == 53')\n",
    "fin54 = t2.query('code == 54')\n",
    "fin55 = t2.query('code == 55')\n",
    "fin56 = t2.query('code == 56')\n",
    "fin57 = t2.query('code == 57')\n",
    "fin58 = t2.query('code == 58')\n",
    "fin59 = t2.query('code == 59')\n",
    "fin690 = t2.query('code == 690')\n",
    "fin692 = t2.query('code == 692')\n",
    "fin701 = t2.query('code == 701')\n",
    "fin713 = t2.query('code == 713')\n",
    "fin6201 = t2.query('code == 6201')\n",
    "fin6203 = t2.query('code == 6203')\n",
    "fin6204 = t2.query('code == 6204')\n",
    "fin6208 = t2.query('code == 6208')\n"
   ]
  },
  {
   "cell_type": "code",
   "execution_count": 47,
   "metadata": {},
   "outputs": [
    {
     "name": "stdout",
     "output_type": "stream",
     "text": [
      "明日走勢: 跌\n",
      "明日漲的機率: 0.18666666666666668\n",
      "1302    78.652273\n",
      "Name: close, dtype: float64\n"
     ]
    },
    {
     "name": "stderr",
     "output_type": "stream",
     "text": [
      "C:\\Users\\x555l\\Anaconda3\\lib\\site-packages\\ipykernel_launcher.py:7: SettingWithCopyWarning: \n",
      "A value is trying to be set on a copy of a slice from a DataFrame.\n",
      "Try using .loc[row_indexer,col_indexer] = value instead\n",
      "\n",
      "See the caveats in the documentation: http://pandas.pydata.org/pandas-docs/stable/indexing.html#indexing-view-versus-copy\n",
      "  import sys\n"
     ]
    }
   ],
   "source": [
    "fin50_X = fin50[selected_features]\n",
    "fin50_y_predicted = forest.predict(fin50_X)\n",
    "proba = forest.predict_proba(fin50_X)\n",
    "print('明日走勢: {}'.format(np.where(fin50_y_predicted==True,'漲','跌')[0]))\n",
    "print( '明日漲的機率: {}'.format(proba[0][1]))\n",
    "\n",
    "fin50['diff']=(fin50.close - fin50.close.shift(1))\n",
    "\n",
    "fluct50 = fin50.query('date > 20180301')\n",
    "posfl50 = fluct50.query('diff > 0')\n",
    "negfl50 = fluct50.query('diff < 0')\n",
    "\n",
    "rise = posfl50['diff'].mean()\n",
    "drop = negfl50['diff'].mean()\n",
    "\n",
    "if format(np.where(fin50_y_predicted == True,1,-1)[0]) == 1:\n",
    "    print (fin50['close'].tail(1) + rise)\n",
    "else:\n",
    "    print (fin50['close'].tail(1) + drop)"
   ]
  },
  {
   "cell_type": "code",
   "execution_count": 50,
   "metadata": {},
   "outputs": [
    {
     "name": "stdout",
     "output_type": "stream",
     "text": [
      "明日走勢: 跌\n",
      "明日漲的機率: 0.20666666666666667\n",
      "2605    31.895\n",
      "Name: close, dtype: float64\n"
     ]
    },
    {
     "name": "stderr",
     "output_type": "stream",
     "text": [
      "C:\\Users\\x555l\\Anaconda3\\lib\\site-packages\\ipykernel_launcher.py:7: SettingWithCopyWarning: \n",
      "A value is trying to be set on a copy of a slice from a DataFrame.\n",
      "Try using .loc[row_indexer,col_indexer] = value instead\n",
      "\n",
      "See the caveats in the documentation: http://pandas.pydata.org/pandas-docs/stable/indexing.html#indexing-view-versus-copy\n",
      "  import sys\n"
     ]
    }
   ],
   "source": [
    "fin51_X = fin51[selected_features]\n",
    "fin51_y_predicted = forest.predict(fin51_X)\n",
    "proba = forest.predict_proba(fin51_X)\n",
    "print('明日走勢: {}'.format(np.where(fin51_y_predicted==True,'漲','跌')[0]))\n",
    "print( '明日漲的機率: {}'.format(proba[0][1]))\n",
    "\n",
    "fin51['diff']=(fin51.close - fin51.close.shift(1))\n",
    "\n",
    "fluct51 = fin51.query('date > 20180301')\n",
    "posfl51 = fluct51.query('diff > 0')\n",
    "negfl51 = fluct51.query('diff < 0')\n",
    "\n",
    "rise = posfl51['diff'].mean()\n",
    "drop = negfl51['diff'].mean()\n",
    "\n",
    "if format(np.where(fin51_y_predicted == True,1,-1)[0]) == 1:\n",
    "    print (fin51['close'].tail(1) + rise)\n",
    "else:\n",
    "    print (fin51['close'].tail(1) + drop)\n"
   ]
  },
  {
   "cell_type": "code",
   "execution_count": 51,
   "metadata": {},
   "outputs": [
    {
     "name": "stdout",
     "output_type": "stream",
     "text": [
      "明日走勢: 跌\n",
      "明日漲的機率: 0.24666666666666667\n",
      "3908    52.605263\n",
      "Name: close, dtype: float64\n"
     ]
    },
    {
     "name": "stderr",
     "output_type": "stream",
     "text": [
      "C:\\Users\\x555l\\Anaconda3\\lib\\site-packages\\ipykernel_launcher.py:7: SettingWithCopyWarning: \n",
      "A value is trying to be set on a copy of a slice from a DataFrame.\n",
      "Try using .loc[row_indexer,col_indexer] = value instead\n",
      "\n",
      "See the caveats in the documentation: http://pandas.pydata.org/pandas-docs/stable/indexing.html#indexing-view-versus-copy\n",
      "  import sys\n"
     ]
    }
   ],
   "source": [
    "fin52_X = fin52[selected_features]\n",
    "fin52_y_predicted = forest.predict(fin52_X)\n",
    "proba = forest.predict_proba(fin52_X)\n",
    "print('明日走勢: {}'.format(np.where(fin52_y_predicted==True,'漲','跌')[0]))\n",
    "print( '明日漲的機率: {}'.format(proba[0][1]))\n",
    "\n",
    "fin52['diff']=(fin52.close - fin52.close.shift(1))\n",
    "\n",
    "fluct52 = fin52.query('date > 20180301')\n",
    "posfl52 = fluct52.query('diff > 0')\n",
    "negfl52 = fluct52.query('diff < 0')\n",
    "\n",
    "rise = posfl52['diff'].mean()\n",
    "drop = negfl52['diff'].mean()\n",
    "\n",
    "if format(np.where(fin52_y_predicted == True,1,-1)[0]) == 1:\n",
    "    print (fin52['close'].tail(1) + rise)\n",
    "else:\n",
    "    print (fin52['close'].tail(1) + drop)\n"
   ]
  },
  {
   "cell_type": "code",
   "execution_count": 52,
   "metadata": {},
   "outputs": [
    {
     "name": "stdout",
     "output_type": "stream",
     "text": [
      "明日走勢: 跌\n",
      "明日漲的機率: 0.14\n",
      "5211    33.88\n",
      "Name: close, dtype: float64\n"
     ]
    },
    {
     "name": "stderr",
     "output_type": "stream",
     "text": [
      "C:\\Users\\x555l\\Anaconda3\\lib\\site-packages\\ipykernel_launcher.py:7: SettingWithCopyWarning: \n",
      "A value is trying to be set on a copy of a slice from a DataFrame.\n",
      "Try using .loc[row_indexer,col_indexer] = value instead\n",
      "\n",
      "See the caveats in the documentation: http://pandas.pydata.org/pandas-docs/stable/indexing.html#indexing-view-versus-copy\n",
      "  import sys\n"
     ]
    }
   ],
   "source": [
    "fin53_X = fin53[selected_features]\n",
    "fin53_y_predicted = forest.predict(fin53_X)\n",
    "proba = forest.predict_proba(fin53_X)\n",
    "print('明日走勢: {}'.format(np.where(fin53_y_predicted==True,'漲','跌')[0]))\n",
    "print( '明日漲的機率: {}'.format(proba[0][1]))\n",
    "\n",
    "fin53['diff']=(fin53.close - fin53.close.shift(1))\n",
    "\n",
    "fluct53 = fin53.query('date > 20180301')\n",
    "posfl53 = fluct53.query('diff > 0')\n",
    "negfl53 = fluct53.query('diff < 0')\n",
    "\n",
    "rise = posfl53['diff'].mean()\t\n",
    "drop = negfl53['diff'].mean()\n",
    "\n",
    "if format(np.where(fin53_y_predicted == True,1,-1)[0]) == 1:\n",
    "    print (fin53['close'].tail(1) + rise)\n",
    "else:\n",
    "    print (fin53['close'].tail(1) + drop)\n"
   ]
  },
  {
   "cell_type": "code",
   "execution_count": 53,
   "metadata": {},
   "outputs": [
    {
     "name": "stdout",
     "output_type": "stream",
     "text": [
      "明日走勢: 跌\n",
      "明日漲的機率: 0.19333333333333333\n",
      "6514    22.956667\n",
      "Name: close, dtype: float64\n"
     ]
    },
    {
     "name": "stderr",
     "output_type": "stream",
     "text": [
      "C:\\Users\\x555l\\Anaconda3\\lib\\site-packages\\ipykernel_launcher.py:7: SettingWithCopyWarning: \n",
      "A value is trying to be set on a copy of a slice from a DataFrame.\n",
      "Try using .loc[row_indexer,col_indexer] = value instead\n",
      "\n",
      "See the caveats in the documentation: http://pandas.pydata.org/pandas-docs/stable/indexing.html#indexing-view-versus-copy\n",
      "  import sys\n"
     ]
    }
   ],
   "source": [
    "fin54_X = fin54[selected_features]\n",
    "fin54_y_predicted = forest.predict(fin54_X)\n",
    "proba = forest.predict_proba(fin54_X)\n",
    "print('明日走勢: {}'.format(np.where(fin54_y_predicted==True,'漲','跌')[0]))\n",
    "print( '明日漲的機率: {}'.format(proba[0][1]))\n",
    "\n",
    "fin54['diff']=(fin54.close - fin54.close.shift(1))\n",
    "\n",
    "fluct54 = fin54.query('date > 20180301')\n",
    "posfl54 = fluct54.query('diff > 0')\n",
    "negfl54 = fluct54.query('diff < 0')\n",
    "\n",
    "rise = posfl54['diff'].mean()\t\n",
    "drop = negfl54['diff'].mean()\n",
    "\n",
    "if format(np.where(fin54_y_predicted == True,1,-1)[0]) == 1:\n",
    "    print (fin54['close'].tail(1) + rise)\n",
    "else:\n",
    "    print (fin54['close'].tail(1) + drop)\n"
   ]
  },
  {
   "cell_type": "code",
   "execution_count": 54,
   "metadata": {
    "scrolled": true
   },
   "outputs": [
    {
     "name": "stdout",
     "output_type": "stream",
     "text": [
      "明日走勢: 跌\n",
      "明日漲的機率: 0.43333333333333335\n",
      "7817    16.964444\n",
      "Name: close, dtype: float64\n"
     ]
    },
    {
     "name": "stderr",
     "output_type": "stream",
     "text": [
      "C:\\Users\\x555l\\Anaconda3\\lib\\site-packages\\ipykernel_launcher.py:7: SettingWithCopyWarning: \n",
      "A value is trying to be set on a copy of a slice from a DataFrame.\n",
      "Try using .loc[row_indexer,col_indexer] = value instead\n",
      "\n",
      "See the caveats in the documentation: http://pandas.pydata.org/pandas-docs/stable/indexing.html#indexing-view-versus-copy\n",
      "  import sys\n"
     ]
    }
   ],
   "source": [
    "fin55_X = fin55[selected_features]\n",
    "fin55_y_predicted = forest.predict(fin55_X)\n",
    "proba = forest.predict_proba(fin55_X)\n",
    "print('明日走勢: {}'.format(np.where(fin55_y_predicted==True,'漲','跌')[0]))\n",
    "print( '明日漲的機率: {}'.format(proba[0][1]))\n",
    "\n",
    "fin55['diff']=(fin55.close - fin55.close.shift(1))\n",
    "\n",
    "fluct55 = fin55.query('date > 20180301')\n",
    "posfl55 = fluct55.query('diff > 0')\n",
    "negfl55 = fluct55.query('diff < 0')\n",
    "\n",
    "rise = posfl55['diff'].mean()\t\n",
    "drop = negfl55['diff'].mean()\n",
    "\n",
    "if format(np.where(fin55_y_predicted == True,1,-1)[0]) == 1:\n",
    "    print (fin55['close'].tail(1) + rise)\t\n",
    "else:\n",
    "    print (fin55['close'].tail(1) + drop)\n"
   ]
  },
  {
   "cell_type": "code",
   "execution_count": 55,
   "metadata": {
    "scrolled": true
   },
   "outputs": [
    {
     "name": "stdout",
     "output_type": "stream",
     "text": [
      "明日走勢: 漲\n",
      "明日漲的機率: 0.7933333333333333\n",
      "9121    25.047826\n",
      "Name: close, dtype: float64\n"
     ]
    },
    {
     "name": "stderr",
     "output_type": "stream",
     "text": [
      "C:\\Users\\x555l\\Anaconda3\\lib\\site-packages\\ipykernel_launcher.py:7: SettingWithCopyWarning: \n",
      "A value is trying to be set on a copy of a slice from a DataFrame.\n",
      "Try using .loc[row_indexer,col_indexer] = value instead\n",
      "\n",
      "See the caveats in the documentation: http://pandas.pydata.org/pandas-docs/stable/indexing.html#indexing-view-versus-copy\n",
      "  import sys\n"
     ]
    }
   ],
   "source": [
    "fin56_X = fin56[selected_features]\n",
    "fin56_y_predicted = forest.predict(fin56_X)\n",
    "proba = forest.predict_proba(fin56_X)\n",
    "print('明日走勢: {}'.format(np.where(fin56_y_predicted==True,'漲','跌')[0]))\n",
    "print( '明日漲的機率: {}'.format(proba[0][1]))\n",
    "\n",
    "fin56['diff']=(fin56.close - fin56.close.shift(1))\n",
    "\n",
    "fluct56 = fin56.query('date > 20180301')\n",
    "posfl56 = fluct56.query('diff > 0')\n",
    "negfl56 = fluct56.query('diff < 0')\n",
    "\n",
    "rise = posfl56['diff'].mean()\t\n",
    "drop = negfl56['diff'].mean()\n",
    "\n",
    "if format(np.where(fin56_y_predicted == True,1,-1)[0]) == 1:\n",
    "    print (fin56['close'].tail(1) + rise)\t\n",
    "else:\n",
    "    print (fin56['close'].tail(1) + drop)\n"
   ]
  },
  {
   "cell_type": "code",
   "execution_count": 56,
   "metadata": {
    "scrolled": true
   },
   "outputs": [
    {
     "name": "stdout",
     "output_type": "stream",
     "text": [
      "明日走勢: 漲\n",
      "明日漲的機率: 0.82\n",
      "10424    48.32\n",
      "Name: close, dtype: float64\n"
     ]
    },
    {
     "name": "stderr",
     "output_type": "stream",
     "text": [
      "C:\\Users\\x555l\\Anaconda3\\lib\\site-packages\\ipykernel_launcher.py:7: SettingWithCopyWarning: \n",
      "A value is trying to be set on a copy of a slice from a DataFrame.\n",
      "Try using .loc[row_indexer,col_indexer] = value instead\n",
      "\n",
      "See the caveats in the documentation: http://pandas.pydata.org/pandas-docs/stable/indexing.html#indexing-view-versus-copy\n",
      "  import sys\n"
     ]
    }
   ],
   "source": [
    "fin57_X = fin57[selected_features]\n",
    "fin57_y_predicted = forest.predict(fin57_X)\n",
    "proba = forest.predict_proba(fin57_X)\n",
    "print('明日走勢: {}'.format(np.where(fin57_y_predicted==True,'漲','跌')[0]))\n",
    "print( '明日漲的機率: {}'.format(proba[0][1]))\n",
    "\n",
    "fin57['diff']=(fin57.close - fin57.close.shift(1))\n",
    "\n",
    "fluct57 = fin57.query('date > 20180301')\n",
    "posfl57 = fluct57.query('diff > 0')\n",
    "negfl57 = fluct57.query('diff < 0')\n",
    "\n",
    "rise = posfl57['diff'].mean()\t\n",
    "drop = negfl57['diff'].mean()\n",
    "\n",
    "if format(np.where(fin57_y_predicted == True,1,-1)[0]) == 1:\n",
    "    print (fin57['close'].tail(1) + rise)\t\n",
    "else:\n",
    "    print (fin57['close'].tail(1) + drop)\n"
   ]
  },
  {
   "cell_type": "code",
   "execution_count": 57,
   "metadata": {},
   "outputs": [
    {
     "name": "stdout",
     "output_type": "stream",
     "text": [
      "明日走勢: 跌\n",
      "明日漲的機率: 0.19333333333333333\n",
      "11727    44.597143\n",
      "Name: close, dtype: float64\n"
     ]
    },
    {
     "name": "stderr",
     "output_type": "stream",
     "text": [
      "C:\\Users\\x555l\\Anaconda3\\lib\\site-packages\\ipykernel_launcher.py:7: SettingWithCopyWarning: \n",
      "A value is trying to be set on a copy of a slice from a DataFrame.\n",
      "Try using .loc[row_indexer,col_indexer] = value instead\n",
      "\n",
      "See the caveats in the documentation: http://pandas.pydata.org/pandas-docs/stable/indexing.html#indexing-view-versus-copy\n",
      "  import sys\n"
     ]
    }
   ],
   "source": [
    "fin58_X = fin58[selected_features]\n",
    "fin58_y_predicted = forest.predict(fin58_X)\n",
    "proba = forest.predict_proba(fin58_X)\n",
    "print('明日走勢: {}'.format(np.where(fin58_y_predicted==True,'漲','跌')[0]))\n",
    "print( '明日漲的機率: {}'.format(proba[0][1]))\n",
    "\n",
    "fin58['diff']=(fin58.close - fin58.close.shift(1))\n",
    "\n",
    "fluct58 = fin58.query('date > 20180301')\n",
    "posfl58 = fluct58.query('diff > 0')\n",
    "negfl58 = fluct58.query('diff < 0')\n",
    "\n",
    "rise = posfl58['diff'].mean()\t\n",
    "drop = negfl58['diff'].mean()\n",
    "\n",
    "if format(np.where(fin58_y_predicted == True,1,-1)[0]) == 1:\n",
    "    print (fin58['close'].tail(1) + rise)\t\n",
    "else:\n",
    "    print (fin58['close'].tail(1) + drop)\n"
   ]
  },
  {
   "cell_type": "code",
   "execution_count": 58,
   "metadata": {
    "scrolled": true
   },
   "outputs": [
    {
     "name": "stdout",
     "output_type": "stream",
     "text": [
      "明日走勢: 跌\n",
      "明日漲的機率: 0.20666666666666667\n",
      "13030    41.725\n",
      "Name: close, dtype: float64\n"
     ]
    },
    {
     "name": "stderr",
     "output_type": "stream",
     "text": [
      "C:\\Users\\x555l\\Anaconda3\\lib\\site-packages\\ipykernel_launcher.py:7: SettingWithCopyWarning: \n",
      "A value is trying to be set on a copy of a slice from a DataFrame.\n",
      "Try using .loc[row_indexer,col_indexer] = value instead\n",
      "\n",
      "See the caveats in the documentation: http://pandas.pydata.org/pandas-docs/stable/indexing.html#indexing-view-versus-copy\n",
      "  import sys\n"
     ]
    }
   ],
   "source": [
    "fin59_X = fin59[selected_features]\n",
    "fin59_y_predicted = forest.predict(fin59_X)\n",
    "proba = forest.predict_proba(fin59_X)\n",
    "print('明日走勢: {}'.format(np.where(fin59_y_predicted==True,'漲','跌')[0]))\n",
    "print( '明日漲的機率: {}'.format(proba[0][1]))\n",
    "\n",
    "fin59['diff']=(fin59.close - fin59.close.shift(1))\n",
    "\n",
    "fluct59 = fin59.query('date > 20180301')\n",
    "posfl59 = fluct59.query('diff > 0')\n",
    "negfl59 = fluct59.query('diff < 0')\n",
    "\n",
    "rise = posfl59['diff'].mean()\t\n",
    "drop = negfl59['diff'].mean()\n",
    "\n",
    "if format(np.where(fin59_y_predicted == True,1,-1)[0]) == 1:\n",
    "    print (fin59['close'].tail(1) + rise)\t\n",
    "else:\n",
    "    print (fin59['close'].tail(1) + drop)\n"
   ]
  },
  {
   "cell_type": "code",
   "execution_count": 59,
   "metadata": {},
   "outputs": [
    {
     "name": "stdout",
     "output_type": "stream",
     "text": [
      "明日走勢: 跌\n",
      "明日漲的機率: 0.14\n",
      "18507    21.424286\n",
      "Name: close, dtype: float64\n"
     ]
    },
    {
     "name": "stderr",
     "output_type": "stream",
     "text": [
      "C:\\Users\\x555l\\Anaconda3\\lib\\site-packages\\ipykernel_launcher.py:7: SettingWithCopyWarning: \n",
      "A value is trying to be set on a copy of a slice from a DataFrame.\n",
      "Try using .loc[row_indexer,col_indexer] = value instead\n",
      "\n",
      "See the caveats in the documentation: http://pandas.pydata.org/pandas-docs/stable/indexing.html#indexing-view-versus-copy\n",
      "  import sys\n"
     ]
    }
   ],
   "source": [
    "fin690_X = fin690[selected_features]\n",
    "fin690_y_predicted = forest.predict(fin690_X)\n",
    "proba = forest.predict_proba(fin690_X)\n",
    "print('明日走勢: {}'.format(np.where(fin690_y_predicted==True,'漲','跌')[0]))\n",
    "print( '明日漲的機率: {}'.format(proba[0][1]))\n",
    "\n",
    "fin690['diff']=(fin690.close - fin690.close.shift(1))\n",
    "\n",
    "fluct690 = fin690.query('date > 20180301')\n",
    "posfl690 = fluct690.query('diff > 0')\n",
    "negfl690 = fluct690.query('diff < 0')\n",
    "\n",
    "rise = posfl690['diff'].mean()\t\n",
    "drop = negfl690['diff'].mean()\n",
    "\n",
    "if format(np.where(fin690_y_predicted == True,1,-1)[0]) == 1:\n",
    "    print (fin690['close'].tail(1) + rise)\t\n",
    "else:\n",
    "    print (fin690['close'].tail(1) + drop)\n"
   ]
  },
  {
   "cell_type": "code",
   "execution_count": 60,
   "metadata": {
    "scrolled": true
   },
   "outputs": [
    {
     "name": "stdout",
     "output_type": "stream",
     "text": [
      "明日走勢: 跌\n",
      "明日漲的機率: 0.2\n",
      "18742    20.701579\n",
      "Name: close, dtype: float64\n"
     ]
    },
    {
     "name": "stderr",
     "output_type": "stream",
     "text": [
      "C:\\Users\\x555l\\Anaconda3\\lib\\site-packages\\ipykernel_launcher.py:7: SettingWithCopyWarning: \n",
      "A value is trying to be set on a copy of a slice from a DataFrame.\n",
      "Try using .loc[row_indexer,col_indexer] = value instead\n",
      "\n",
      "See the caveats in the documentation: http://pandas.pydata.org/pandas-docs/stable/indexing.html#indexing-view-versus-copy\n",
      "  import sys\n"
     ]
    }
   ],
   "source": [
    "fin692_X = fin692[selected_features]\n",
    "fin692_y_predicted = forest.predict(fin692_X)\n",
    "proba = forest.predict_proba(fin692_X)\n",
    "print('明日走勢: {}'.format(np.where(fin692_y_predicted==True,'漲','跌')[0]))\n",
    "print( '明日漲的機率: {}'.format(proba[0][1]))\n",
    "\n",
    "fin692['diff']=(fin692.close - fin692.close.shift(1))\n",
    "\n",
    "fluct692 = fin692.query('date > 20180301')\n",
    "posfl692 = fluct692.query('diff > 0')\n",
    "negfl692 = fluct692.query('diff < 0')\n",
    "\n",
    "rise = posfl692['diff'].mean()\t\n",
    "drop = negfl692['diff'].mean()\n",
    "\n",
    "if format(np.where(fin692_y_predicted == True,1,-1)[0]) == 1:\n",
    "    print (fin692['close'].tail(1) + rise)\t\n",
    "else:\n",
    "    print (fin692['close'].tail(1) + drop)\n"
   ]
  },
  {
   "cell_type": "code",
   "execution_count": 61,
   "metadata": {
    "scrolled": true
   },
   "outputs": [
    {
     "name": "stdout",
     "output_type": "stream",
     "text": [
      "明日走勢: 漲\n",
      "明日漲的機率: 0.68\n",
      "18912    20.757619\n",
      "Name: close, dtype: float64\n"
     ]
    },
    {
     "name": "stderr",
     "output_type": "stream",
     "text": [
      "C:\\Users\\x555l\\Anaconda3\\lib\\site-packages\\ipykernel_launcher.py:7: SettingWithCopyWarning: \n",
      "A value is trying to be set on a copy of a slice from a DataFrame.\n",
      "Try using .loc[row_indexer,col_indexer] = value instead\n",
      "\n",
      "See the caveats in the documentation: http://pandas.pydata.org/pandas-docs/stable/indexing.html#indexing-view-versus-copy\n",
      "  import sys\n"
     ]
    }
   ],
   "source": [
    "fin701_X = fin701[selected_features]\n",
    "fin701_y_predicted = forest.predict(fin701_X)\n",
    "proba = forest.predict_proba(fin701_X)\n",
    "print('明日走勢: {}'.format(np.where(fin701_y_predicted==True,'漲','跌')[0]))\n",
    "print( '明日漲的機率: {}'.format(proba[0][1]))\n",
    "\n",
    "fin701['diff']=(fin701.close - fin701.close.shift(1))\n",
    "\n",
    "fluct701 = fin701.query('date > 20180301')\n",
    "posfl701 = fluct701.query('diff > 0')\n",
    "negfl701 = fluct701.query('diff < 0')\n",
    "\n",
    "rise = posfl701['diff'].mean()\t\n",
    "drop = negfl701['diff'].mean()\n",
    "\n",
    "if format(np.where(fin701_y_predicted == True,1,-1)[0]) == 1:\n",
    "    print (fin701['close'].tail(1) + rise)\t\n",
    "else:\n",
    "    print (fin701['close'].tail(1) + drop)\n"
   ]
  },
  {
   "cell_type": "code",
   "execution_count": 62,
   "metadata": {},
   "outputs": [
    {
     "name": "stdout",
     "output_type": "stream",
     "text": [
      "明日走勢: 漲\n",
      "明日漲的機率: 0.8333333333333334\n",
      "19052    29.954118\n",
      "Name: close, dtype: float64\n"
     ]
    },
    {
     "name": "stderr",
     "output_type": "stream",
     "text": [
      "C:\\Users\\x555l\\Anaconda3\\lib\\site-packages\\ipykernel_launcher.py:7: SettingWithCopyWarning: \n",
      "A value is trying to be set on a copy of a slice from a DataFrame.\n",
      "Try using .loc[row_indexer,col_indexer] = value instead\n",
      "\n",
      "See the caveats in the documentation: http://pandas.pydata.org/pandas-docs/stable/indexing.html#indexing-view-versus-copy\n",
      "  import sys\n"
     ]
    }
   ],
   "source": [
    "fin713_X = fin713[selected_features]\n",
    "fin713_y_predicted = forest.predict(fin713_X)\n",
    "proba = forest.predict_proba(fin713_X)\n",
    "print('明日走勢: {}'.format(np.where(fin713_y_predicted==True,'漲','跌')[0]))\n",
    "print( '明日漲的機率: {}'.format(proba[0][1]))\n",
    "\n",
    "fin713['diff']=(fin713.close - fin713.close.shift(1))\n",
    "\n",
    "fluct713 = fin713.query('date > 20180301')\n",
    "posfl713 = fluct713.query('diff > 0')\n",
    "negfl713 = fluct713.query('diff < 0')\n",
    "\n",
    "rise = posfl713['diff'].mean()\t\n",
    "drop = negfl713['diff'].mean()\t\n",
    "\n",
    "if format(np.where(fin713_y_predicted == True,1,-1)[0]) == 1:\n",
    "    print (fin713['close'].tail(1) + rise)\t\n",
    "else:\n",
    "    print (fin713['close'].tail(1) + drop)\n"
   ]
  },
  {
   "cell_type": "code",
   "execution_count": 63,
   "metadata": {
    "scrolled": true
   },
   "outputs": [
    {
     "name": "stdout",
     "output_type": "stream",
     "text": [
      "明日走勢: 跌\n",
      "明日漲的機率: 0.38\n",
      "14333    13.05375\n",
      "Name: close, dtype: float64\n"
     ]
    },
    {
     "name": "stderr",
     "output_type": "stream",
     "text": [
      "C:\\Users\\x555l\\Anaconda3\\lib\\site-packages\\ipykernel_launcher.py:7: SettingWithCopyWarning: \n",
      "A value is trying to be set on a copy of a slice from a DataFrame.\n",
      "Try using .loc[row_indexer,col_indexer] = value instead\n",
      "\n",
      "See the caveats in the documentation: http://pandas.pydata.org/pandas-docs/stable/indexing.html#indexing-view-versus-copy\n",
      "  import sys\n"
     ]
    }
   ],
   "source": [
    "fin6201_X = fin6201[selected_features]\n",
    "fin6201_y_predicted = forest.predict(fin6201_X)\n",
    "proba = forest.predict_proba(fin6201_X)\n",
    "print('明日走勢: {}'.format(np.where(fin6201_y_predicted==True,'漲','跌')[0]))\n",
    "print( '明日漲的機率: {}'.format(proba[0][1]))\n",
    "\n",
    "fin6201['diff']=(fin6201.close - fin6201.close.shift(1))\n",
    "\n",
    "fluct6201 = fin6201.query('date > 20180301')\n",
    "posfl6201 = fluct6201.query('diff > 0')\n",
    "negfl6201 = fluct6201.query('diff < 0')\n",
    "\n",
    "rise = posfl6201['diff'].mean()\t\n",
    "drop = negfl6201['diff'].mean()\t\n",
    "\n",
    "if format(np.where(fin6201_y_predicted == True,1,-1)[0]) == 1:\n",
    "    print (fin6201['close'].tail(1) + rise)\t\n",
    "else:\n",
    "    print (fin6201['close'].tail(1) + drop)\n"
   ]
  },
  {
   "cell_type": "code",
   "execution_count": 64,
   "metadata": {
    "scrolled": true
   },
   "outputs": [
    {
     "name": "stdout",
     "output_type": "stream",
     "text": [
      "明日走勢: 漲\n",
      "明日漲的機率: 0.7666666666666667\n",
      "15636    36.455333\n",
      "Name: close, dtype: float64\n"
     ]
    },
    {
     "name": "stderr",
     "output_type": "stream",
     "text": [
      "C:\\Users\\x555l\\Anaconda3\\lib\\site-packages\\ipykernel_launcher.py:7: SettingWithCopyWarning: \n",
      "A value is trying to be set on a copy of a slice from a DataFrame.\n",
      "Try using .loc[row_indexer,col_indexer] = value instead\n",
      "\n",
      "See the caveats in the documentation: http://pandas.pydata.org/pandas-docs/stable/indexing.html#indexing-view-versus-copy\n",
      "  import sys\n"
     ]
    }
   ],
   "source": [
    "fin6203_X = fin6203[selected_features]\n",
    "fin6203_y_predicted = forest.predict(fin6203_X)\n",
    "proba = forest.predict_proba(fin6203_X)\n",
    "print('明日走勢: {}'.format(np.where(fin6203_y_predicted==True,'漲','跌')[0]))\n",
    "print( '明日漲的機率: {}'.format(proba[0][1]))\n",
    "\n",
    "fin6203['diff']=(fin6203.close - fin6203.close.shift(1))\n",
    "\n",
    "fluct6203 = fin6203.query('date > 20180301')\n",
    "posfl6203 = fluct6203.query('diff > 0')\n",
    "negfl6203 = fluct6203.query('diff < 0')\n",
    "\n",
    "rise = posfl6203['diff'].mean()\t\n",
    "drop = negfl6203['diff'].mean()\t\n",
    "\n",
    "if format(np.where(fin6203_y_predicted == True,1,-1)[0]) == 1:\n",
    "    print (fin6203['close'].tail(1) + rise)\t\n",
    "else:\n",
    "    print (fin6203['close'].tail(1) + drop)\n"
   ]
  },
  {
   "cell_type": "code",
   "execution_count": 65,
   "metadata": {
    "scrolled": true
   },
   "outputs": [
    {
     "name": "stdout",
     "output_type": "stream",
     "text": [
      "明日走勢: 跌\n",
      "明日漲的機率: 0.24\n",
      "16939    51.715385\n",
      "Name: close, dtype: float64\n"
     ]
    },
    {
     "name": "stderr",
     "output_type": "stream",
     "text": [
      "C:\\Users\\x555l\\Anaconda3\\lib\\site-packages\\ipykernel_launcher.py:7: SettingWithCopyWarning: \n",
      "A value is trying to be set on a copy of a slice from a DataFrame.\n",
      "Try using .loc[row_indexer,col_indexer] = value instead\n",
      "\n",
      "See the caveats in the documentation: http://pandas.pydata.org/pandas-docs/stable/indexing.html#indexing-view-versus-copy\n",
      "  import sys\n"
     ]
    }
   ],
   "source": [
    "fin6204_X = fin6204[selected_features]\n",
    "fin6204_y_predicted = forest.predict(fin6204_X)\n",
    "proba = forest.predict_proba(fin6204_X)\n",
    "print('明日走勢: {}'.format(np.where(fin6204_y_predicted==True,'漲','跌')[0]))\n",
    "print( '明日漲的機率: {}'.format(proba[0][1]))\n",
    "\n",
    "fin6204['diff']=(fin6204.close - fin6204.close.shift(1))\n",
    "\n",
    "fluct6204 = fin6204.query('date > 20180301')\n",
    "posfl6204 = fluct6204.query('diff > 0')\n",
    "negfl6204 = fluct6204.query('diff < 0')\n",
    "\n",
    "rise = posfl6204['diff'].mean()\t\n",
    "drop = negfl6204['diff'].mean()\t\n",
    "\n",
    "if format(np.where(fin6204_y_predicted == True,1,-1)[0]) == 1:\n",
    "    print (fin6204['close'].tail(1) + rise)\t\n",
    "else:\n",
    "    print (fin6204['close'].tail(1) + drop)\n"
   ]
  },
  {
   "cell_type": "code",
   "execution_count": 66,
   "metadata": {},
   "outputs": [
    {
     "name": "stdout",
     "output_type": "stream",
     "text": [
      "明日走勢: 跌\n",
      "明日漲的機率: 0.16666666666666666\n",
      "18242    45.731905\n",
      "Name: close, dtype: float64\n"
     ]
    },
    {
     "name": "stderr",
     "output_type": "stream",
     "text": [
      "C:\\Users\\x555l\\Anaconda3\\lib\\site-packages\\ipykernel_launcher.py:7: SettingWithCopyWarning: \n",
      "A value is trying to be set on a copy of a slice from a DataFrame.\n",
      "Try using .loc[row_indexer,col_indexer] = value instead\n",
      "\n",
      "See the caveats in the documentation: http://pandas.pydata.org/pandas-docs/stable/indexing.html#indexing-view-versus-copy\n",
      "  import sys\n"
     ]
    }
   ],
   "source": [
    "fin6208_X = fin6208[selected_features]\n",
    "fin6208_y_predicted = forest.predict(fin6208_X)\n",
    "proba = forest.predict_proba(fin6208_X)\n",
    "print('明日走勢: {}'.format(np.where(fin6208_y_predicted==True,'漲','跌')[0]))\n",
    "print( '明日漲的機率: {}'.format(proba[0][1]))\n",
    "\n",
    "fin6208['diff']=(fin6208.close - fin6208.close.shift(1))\n",
    "\n",
    "fluct6208 = fin6208.query('date > 20180301')\n",
    "posfl6208 = fluct6208.query('diff > 0')\n",
    "negfl6208 = fluct6208.query('diff < 0')\n",
    "\n",
    "rise = posfl6208['diff'].mean()\t\n",
    "drop = negfl6208['diff'].mean()\t\n",
    "\n",
    "if format(np.where(fin6208_y_predicted == True,1,-1)[0]) == 1:\n",
    "    print (fin6208['close'].tail(1) + rise)\t\n",
    "else:\n",
    "    print (fin6208['close'].tail(1) + drop)\n"
   ]
  },
  {
   "cell_type": "code",
   "execution_count": null,
   "metadata": {
    "collapsed": true
   },
   "outputs": [],
   "source": []
  },
  {
   "cell_type": "code",
   "execution_count": null,
   "metadata": {
    "collapsed": true
   },
   "outputs": [],
   "source": []
  },
  {
   "cell_type": "code",
   "execution_count": null,
   "metadata": {
    "collapsed": true
   },
   "outputs": [],
   "source": []
  }
 ],
 "metadata": {
  "kernelspec": {
   "display_name": "Python 3",
   "language": "python",
   "name": "python3"
  },
  "language_info": {
   "codemirror_mode": {
    "name": "ipython",
    "version": 3
   },
   "file_extension": ".py",
   "mimetype": "text/x-python",
   "name": "python",
   "nbconvert_exporter": "python",
   "pygments_lexer": "ipython3",
   "version": "3.6.2"
  }
 },
 "nbformat": 4,
 "nbformat_minor": 2
}
